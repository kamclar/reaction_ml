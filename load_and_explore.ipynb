{
 "cells": [
  {
   "cell_type": "code",
   "execution_count": 1,
   "metadata": {},
   "outputs": [],
   "source": [
    "import csv\n",
    "import pandas as pd\n",
    "import sys\n",
    "#sys.path.append('./preprocess/')\n",
    "#import utils\n",
    "import re\n",
    "from rdkit import Chem\n",
    "from rdkit.Chem import Draw\n",
    "from rdkit.Chem import AllChem\n",
    "from rdkit.Chem import MolToSmiles\n",
    "from rdkit.Chem import MolFromSmiles\n",
    "from rdkit.Chem import rdChemReactions\n",
    "from features import atom_features, bond_features\n",
    "from rdkit.Chem.rdChemReactions import PreprocessReaction\n"
   ]
  },
  {
   "cell_type": "code",
   "execution_count": 6,
   "metadata": {},
   "outputs": [
    {
     "data": {
      "text/html": [
       "<div>\n",
       "<style scoped>\n",
       "    .dataframe tbody tr th:only-of-type {\n",
       "        vertical-align: middle;\n",
       "    }\n",
       "\n",
       "    .dataframe tbody tr th {\n",
       "        vertical-align: top;\n",
       "    }\n",
       "\n",
       "    .dataframe thead th {\n",
       "        text-align: right;\n",
       "    }\n",
       "</style>\n",
       "<table border=\"1\" class=\"dataframe\">\n",
       "  <thead>\n",
       "    <tr style=\"text-align: right;\">\n",
       "      <th></th>\n",
       "      <th>ReactionSmiles</th>\n",
       "      <th>PatentNumber</th>\n",
       "      <th>ParagraphNum</th>\n",
       "      <th>Year</th>\n",
       "      <th>TextMinedYield</th>\n",
       "      <th>CalculatedYield</th>\n",
       "    </tr>\n",
       "  </thead>\n",
       "  <tbody>\n",
       "    <tr>\n",
       "      <td>0</td>\n",
       "      <td>[Br:1][CH2:2][CH2:3][OH:4].[CH2:5]([S:7](Cl)(=...</td>\n",
       "      <td>US03930836</td>\n",
       "      <td>NaN</td>\n",
       "      <td>1976</td>\n",
       "      <td>NaN</td>\n",
       "      <td>NaN</td>\n",
       "    </tr>\n",
       "    <tr>\n",
       "      <td>1</td>\n",
       "      <td>[Br:1][CH2:2][CH2:3][CH2:4][OH:5].[CH3:6][S:7]...</td>\n",
       "      <td>US03930836</td>\n",
       "      <td>NaN</td>\n",
       "      <td>1976</td>\n",
       "      <td>NaN</td>\n",
       "      <td>NaN</td>\n",
       "    </tr>\n",
       "    <tr>\n",
       "      <td>2</td>\n",
       "      <td>[CH2:1]([Cl:4])[CH2:2][OH:3].CCOCC.[CH2:10]([S...</td>\n",
       "      <td>US03930836</td>\n",
       "      <td>NaN</td>\n",
       "      <td>1976</td>\n",
       "      <td>NaN</td>\n",
       "      <td>NaN</td>\n",
       "    </tr>\n",
       "    <tr>\n",
       "      <td>3</td>\n",
       "      <td>[Br:1][CH2:2][CH2:3][OH:4].[CH2:5]([S:7](Cl)(=...</td>\n",
       "      <td>US03930839</td>\n",
       "      <td>NaN</td>\n",
       "      <td>1976</td>\n",
       "      <td>NaN</td>\n",
       "      <td>NaN</td>\n",
       "    </tr>\n",
       "    <tr>\n",
       "      <td>4</td>\n",
       "      <td>[Br:1][CH2:2][CH2:3][CH2:4][OH:5].[CH3:6][S:7]...</td>\n",
       "      <td>US03930839</td>\n",
       "      <td>NaN</td>\n",
       "      <td>1976</td>\n",
       "      <td>NaN</td>\n",
       "      <td>NaN</td>\n",
       "    </tr>\n",
       "    <tr>\n",
       "      <td>...</td>\n",
       "      <td>...</td>\n",
       "      <td>...</td>\n",
       "      <td>...</td>\n",
       "      <td>...</td>\n",
       "      <td>...</td>\n",
       "      <td>...</td>\n",
       "    </tr>\n",
       "    <tr>\n",
       "      <td>49995</td>\n",
       "      <td>[O:1]1[CH2:6][CH2:5][C:4](=[O:7])[CH2:3][CH2:2...</td>\n",
       "      <td>US04128648</td>\n",
       "      <td>NaN</td>\n",
       "      <td>1978</td>\n",
       "      <td>39%</td>\n",
       "      <td>38.9%</td>\n",
       "    </tr>\n",
       "    <tr>\n",
       "      <td>49996</td>\n",
       "      <td>[CH3:1][O:2][C:3]1[C:8]([CH3:9])=[CH:7][C:6]([...</td>\n",
       "      <td>US04128648</td>\n",
       "      <td>NaN</td>\n",
       "      <td>1978</td>\n",
       "      <td>NaN</td>\n",
       "      <td>46.9%</td>\n",
       "    </tr>\n",
       "    <tr>\n",
       "      <td>49997</td>\n",
       "      <td>[NH:1]1[C:11]2[C:6](=[CH:7][CH:8]=[CH:9][CH:10...</td>\n",
       "      <td>US04128644</td>\n",
       "      <td>NaN</td>\n",
       "      <td>1978</td>\n",
       "      <td>NaN</td>\n",
       "      <td>NaN</td>\n",
       "    </tr>\n",
       "    <tr>\n",
       "      <td>49998</td>\n",
       "      <td>[OH:1][CH2:2][C:3]1[CH:15]=[C:14]2[N:5]([C:6](...</td>\n",
       "      <td>US04128644</td>\n",
       "      <td>NaN</td>\n",
       "      <td>1978</td>\n",
       "      <td>NaN</td>\n",
       "      <td>NaN</td>\n",
       "    </tr>\n",
       "    <tr>\n",
       "      <td>49999</td>\n",
       "      <td>[N+:1](=[C:3]1[C:11]2[C:6](=[CH:7][CH:8]=[CH:9...</td>\n",
       "      <td>US04128644</td>\n",
       "      <td>NaN</td>\n",
       "      <td>1978</td>\n",
       "      <td>NaN</td>\n",
       "      <td>NaN</td>\n",
       "    </tr>\n",
       "  </tbody>\n",
       "</table>\n",
       "<p>50000 rows × 6 columns</p>\n",
       "</div>"
      ],
      "text/plain": [
       "                                          ReactionSmiles PatentNumber  \\\n",
       "0      [Br:1][CH2:2][CH2:3][OH:4].[CH2:5]([S:7](Cl)(=...   US03930836   \n",
       "1      [Br:1][CH2:2][CH2:3][CH2:4][OH:5].[CH3:6][S:7]...   US03930836   \n",
       "2      [CH2:1]([Cl:4])[CH2:2][OH:3].CCOCC.[CH2:10]([S...   US03930836   \n",
       "3      [Br:1][CH2:2][CH2:3][OH:4].[CH2:5]([S:7](Cl)(=...   US03930839   \n",
       "4      [Br:1][CH2:2][CH2:3][CH2:4][OH:5].[CH3:6][S:7]...   US03930839   \n",
       "...                                                  ...          ...   \n",
       "49995  [O:1]1[CH2:6][CH2:5][C:4](=[O:7])[CH2:3][CH2:2...   US04128648   \n",
       "49996  [CH3:1][O:2][C:3]1[C:8]([CH3:9])=[CH:7][C:6]([...   US04128648   \n",
       "49997  [NH:1]1[C:11]2[C:6](=[CH:7][CH:8]=[CH:9][CH:10...   US04128644   \n",
       "49998  [OH:1][CH2:2][C:3]1[CH:15]=[C:14]2[N:5]([C:6](...   US04128644   \n",
       "49999  [N+:1](=[C:3]1[C:11]2[C:6](=[CH:7][CH:8]=[CH:9...   US04128644   \n",
       "\n",
       "       ParagraphNum  Year TextMinedYield CalculatedYield  \n",
       "0               NaN  1976            NaN             NaN  \n",
       "1               NaN  1976            NaN             NaN  \n",
       "2               NaN  1976            NaN             NaN  \n",
       "3               NaN  1976            NaN             NaN  \n",
       "4               NaN  1976            NaN             NaN  \n",
       "...             ...   ...            ...             ...  \n",
       "49995           NaN  1978            39%           38.9%  \n",
       "49996           NaN  1978            NaN           46.9%  \n",
       "49997           NaN  1978            NaN             NaN  \n",
       "49998           NaN  1978            NaN             NaN  \n",
       "49999           NaN  1978            NaN             NaN  \n",
       "\n",
       "[50000 rows x 6 columns]"
      ]
     },
     "execution_count": 6,
     "metadata": {},
     "output_type": "execute_result"
    }
   ],
   "source": [
    "# from patents: https://figshare.com/articles/Chemical_reactions_from_US_patents_1976-Sep2016_/5104873\n",
    "data = pd.read_csv('./data/1976_Sep2016_USPTOgrants_smiles.csv', sep='\\t', nrows=50000)\n",
    "#data = pd.read_csv('./data/test_human.txt', sep='\\t', nrows=500000, header=None)\n",
    "patents = data.PatentNumber.value_counts(sort = 0)\n",
    "patents_year = data.groupby([\"PatentNumber\", \"Year\"]).size()\n",
    "data"
   ]
  },
  {
   "cell_type": "code",
   "execution_count": null,
   "metadata": {},
   "outputs": [],
   "source": []
  },
  {
   "cell_type": "code",
   "execution_count": 5,
   "metadata": {},
   "outputs": [
    {
     "data": {
      "text/html": [
       "<div>\n",
       "<style scoped>\n",
       "    .dataframe tbody tr th:only-of-type {\n",
       "        vertical-align: middle;\n",
       "    }\n",
       "\n",
       "    .dataframe tbody tr th {\n",
       "        vertical-align: top;\n",
       "    }\n",
       "\n",
       "    .dataframe thead th {\n",
       "        text-align: right;\n",
       "    }\n",
       "</style>\n",
       "<table border=\"1\" class=\"dataframe\">\n",
       "  <thead>\n",
       "    <tr style=\"text-align: right;\">\n",
       "      <th></th>\n",
       "      <th>ReactionSmiles</th>\n",
       "      <th>PatentNumber</th>\n",
       "      <th>ParagraphNum</th>\n",
       "      <th>Year</th>\n",
       "      <th>TextMinedYield</th>\n",
       "      <th>CalculatedYield</th>\n",
       "    </tr>\n",
       "  </thead>\n",
       "  <tbody>\n",
       "    <tr>\n",
       "      <td>2</td>\n",
       "      <td>[CH2:1]([Cl:4])[CH2:2][OH:3].CCOCC.[CH2:10]([S...</td>\n",
       "      <td>US03930836</td>\n",
       "      <td>NaN</td>\n",
       "      <td>1976</td>\n",
       "      <td>NaN</td>\n",
       "      <td>NaN</td>\n",
       "    </tr>\n",
       "    <tr>\n",
       "      <td>5</td>\n",
       "      <td>[CH2:1]([Cl:4])[CH2:2][OH:3].CCOCC.[CH2:10]([S...</td>\n",
       "      <td>US03930839</td>\n",
       "      <td>NaN</td>\n",
       "      <td>1976</td>\n",
       "      <td>NaN</td>\n",
       "      <td>NaN</td>\n",
       "    </tr>\n",
       "    <tr>\n",
       "      <td>13</td>\n",
       "      <td>[N+:1]([C:4]1[CH:13]=[CH:12][CH:11]=[C:10]2[C:...</td>\n",
       "      <td>US03930837</td>\n",
       "      <td>NaN</td>\n",
       "      <td>1976</td>\n",
       "      <td>NaN</td>\n",
       "      <td>NaN</td>\n",
       "    </tr>\n",
       "    <tr>\n",
       "      <td>14</td>\n",
       "      <td>Cl.[OH:2][C@@H:3]([CH2:21][CH2:22][CH2:23][CH2...</td>\n",
       "      <td>US03930952</td>\n",
       "      <td>NaN</td>\n",
       "      <td>1976</td>\n",
       "      <td>NaN</td>\n",
       "      <td>NaN</td>\n",
       "    </tr>\n",
       "    <tr>\n",
       "      <td>15</td>\n",
       "      <td>CC(O[CH2:5][C:6]1[CH2:28][S:27][C@@H:9]2[C@H:1...</td>\n",
       "      <td>US03930949</td>\n",
       "      <td>NaN</td>\n",
       "      <td>1976</td>\n",
       "      <td>NaN</td>\n",
       "      <td>NaN</td>\n",
       "    </tr>\n",
       "    <tr>\n",
       "      <td>...</td>\n",
       "      <td>...</td>\n",
       "      <td>...</td>\n",
       "      <td>...</td>\n",
       "      <td>...</td>\n",
       "      <td>...</td>\n",
       "      <td>...</td>\n",
       "    </tr>\n",
       "    <tr>\n",
       "      <td>49979</td>\n",
       "      <td>[NH2:1][C@@H:2]1[C@@H:6]([CH2:7][OH:8])[O:5][C...</td>\n",
       "      <td>US04128639</td>\n",
       "      <td>NaN</td>\n",
       "      <td>1978</td>\n",
       "      <td>NaN</td>\n",
       "      <td>NaN</td>\n",
       "    </tr>\n",
       "    <tr>\n",
       "      <td>49987</td>\n",
       "      <td>[S:1]1[CH2:5][CH2:4][N:3]=[C:2]1[NH:6][C:7]1(O...</td>\n",
       "      <td>US04128647</td>\n",
       "      <td>NaN</td>\n",
       "      <td>1978</td>\n",
       "      <td>NaN</td>\n",
       "      <td>NaN</td>\n",
       "    </tr>\n",
       "    <tr>\n",
       "      <td>49988</td>\n",
       "      <td>N1C2C(=NC3C=CC=CC=3N=2)C(=O)NC=1[C:16]([OH:18]...</td>\n",
       "      <td>US04128646</td>\n",
       "      <td>NaN</td>\n",
       "      <td>1978</td>\n",
       "      <td>NaN</td>\n",
       "      <td>NaN</td>\n",
       "    </tr>\n",
       "    <tr>\n",
       "      <td>49996</td>\n",
       "      <td>[CH3:1][O:2][C:3]1[C:8]([CH3:9])=[CH:7][C:6]([...</td>\n",
       "      <td>US04128648</td>\n",
       "      <td>NaN</td>\n",
       "      <td>1978</td>\n",
       "      <td>NaN</td>\n",
       "      <td>46.9%</td>\n",
       "    </tr>\n",
       "    <tr>\n",
       "      <td>49999</td>\n",
       "      <td>[N+:1](=[C:3]1[C:11]2[C:6](=[CH:7][CH:8]=[CH:9...</td>\n",
       "      <td>US04128644</td>\n",
       "      <td>NaN</td>\n",
       "      <td>1978</td>\n",
       "      <td>NaN</td>\n",
       "      <td>NaN</td>\n",
       "    </tr>\n",
       "  </tbody>\n",
       "</table>\n",
       "<p>9082 rows × 6 columns</p>\n",
       "</div>"
      ],
      "text/plain": [
       "                                          ReactionSmiles PatentNumber  \\\n",
       "2      [CH2:1]([Cl:4])[CH2:2][OH:3].CCOCC.[CH2:10]([S...   US03930836   \n",
       "5      [CH2:1]([Cl:4])[CH2:2][OH:3].CCOCC.[CH2:10]([S...   US03930839   \n",
       "13     [N+:1]([C:4]1[CH:13]=[CH:12][CH:11]=[C:10]2[C:...   US03930837   \n",
       "14     Cl.[OH:2][C@@H:3]([CH2:21][CH2:22][CH2:23][CH2...   US03930952   \n",
       "15     CC(O[CH2:5][C:6]1[CH2:28][S:27][C@@H:9]2[C@H:1...   US03930949   \n",
       "...                                                  ...          ...   \n",
       "49979  [NH2:1][C@@H:2]1[C@@H:6]([CH2:7][OH:8])[O:5][C...   US04128639   \n",
       "49987  [S:1]1[CH2:5][CH2:4][N:3]=[C:2]1[NH:6][C:7]1(O...   US04128647   \n",
       "49988  N1C2C(=NC3C=CC=CC=3N=2)C(=O)NC=1[C:16]([OH:18]...   US04128646   \n",
       "49996  [CH3:1][O:2][C:3]1[C:8]([CH3:9])=[CH:7][C:6]([...   US04128648   \n",
       "49999  [N+:1](=[C:3]1[C:11]2[C:6](=[CH:7][CH:8]=[CH:9...   US04128644   \n",
       "\n",
       "       ParagraphNum  Year TextMinedYield CalculatedYield  \n",
       "2               NaN  1976            NaN             NaN  \n",
       "5               NaN  1976            NaN             NaN  \n",
       "13              NaN  1976            NaN             NaN  \n",
       "14              NaN  1976            NaN             NaN  \n",
       "15              NaN  1976            NaN             NaN  \n",
       "...             ...   ...            ...             ...  \n",
       "49979           NaN  1978            NaN             NaN  \n",
       "49987           NaN  1978            NaN             NaN  \n",
       "49988           NaN  1978            NaN             NaN  \n",
       "49996           NaN  1978            NaN           46.9%  \n",
       "49999           NaN  1978            NaN             NaN  \n",
       "\n",
       "[9082 rows x 6 columns]"
      ]
     },
     "execution_count": 5,
     "metadata": {},
     "output_type": "execute_result"
    }
   ],
   "source": [
    "# droping lines from the same patent, keeping the last product - the last step\n",
    "data_last = data.drop_duplicates(subset=['PatentNumber'], keep='last')\n",
    "data_last"
   ]
  },
  {
   "cell_type": "code",
   "execution_count": 59,
   "metadata": {},
   "outputs": [],
   "source": [
    "#data.ReactionSmiles.to_csv('./data/reactions_1000.csv', index=False)"
   ]
  },
  {
   "cell_type": "code",
   "execution_count": 123,
   "metadata": {},
   "outputs": [
    {
     "data": {
      "text/plain": [
       "'CC1N=CC2C(C=1)=C([N+]([O-])=O)C=CC=2.[Cl:15][C:16]1[C:25]2[C:20](=[CH:21][CH:22]=[CH:23][CH:24]=2)[CH:19]=[CH:18][N:17]=1>>[ClH:15].[Cl:15][C:16]1[C:25]2[C:20](=[CH:21][CH:22]=[CH:23][CH:24]=2)[CH:19]=[CH:18][N:17]=1 |f:2.3|'"
      ]
     },
     "execution_count": 123,
     "metadata": {},
     "output_type": "execute_result"
    }
   ],
   "source": [
    "data.ReactionSmiles[9]"
   ]
  },
  {
   "cell_type": "code",
   "execution_count": 124,
   "metadata": {},
   "outputs": [
    {
     "data": {
      "image/png": "[encoded data removed]",
      "text/plain": [
       "<PIL.Image.Image image mode=RGBA size=300x300 at 0x2931CD63E10>"
      ]
     },
     "execution_count": 124,
     "metadata": {},
     "output_type": "execute_result"
    }
   ],
   "source": [
    "mol = AllChem.MolFromSmarts('[Cl:1][C:2]1[N:3]=[CH:4][C:5]2[C:10]([CH:11]=1)=[C:9]([NH2:12])[CH:8]=[CH:7][CH:6]=2')\n",
    "Draw.MolToImage(mol)"
   ]
  },
  {
   "cell_type": "code",
   "execution_count": 12,
   "metadata": {},
   "outputs": [
    {
     "data": {
      "text/plain": [
       "500000.0"
      ]
     },
     "execution_count": 12,
     "metadata": {},
     "output_type": "execute_result"
    }
   ],
   "source": [
    "reaction_count = []\n",
    "for item in data.ReactionSmiles:\n",
    "    reaction_count.append(item.count('>')/2)\n",
    "\n",
    "sum(reaction_count)\n"
   ]
  },
  {
   "cell_type": "code",
   "execution_count": 32,
   "metadata": {},
   "outputs": [
    {
     "data": {
      "text/plain": [
       "(((8, 9, 10), (0,), (0,), (0,)), 4)"
      ]
     },
     "execution_count": 32,
     "metadata": {},
     "output_type": "execute_result"
    }
   ],
   "source": [
    "rxn_1 = AllChem.ReactionFromSmarts(re.sub(r'\\|f:.+\\|', '', data.ReactionSmiles[6]))\n",
    "rxn_2 = AllChem.ReactionFromSmarts(re.sub(r'\\|f:.+\\|', '', data.ReactionSmiles[7]))\n",
    "rxn_3 = AllChem.ReactionFromSmarts(re.sub(r'\\|f:.+\\|', '', data.ReactionSmiles[8]))\n",
    "rxn_4 = AllChem.ReactionFromSmarts(re.sub(r'\\|f:.+\\|', '', data.ReactionSmiles[9]))\n",
    "rxn_5 = AllChem.ReactionFromSmarts(re.sub(r'\\|f:.+\\|', '', data.ReactionSmiles[10]))\n",
    "rxn_6 = AllChem.ReactionFromSmarts(re.sub(r'\\|f:.+\\|', '', data.ReactionSmiles[11]))\n",
    "\n",
    "rxn_1.Initialize()\n",
    "nWarn,nError,nReacts,nProds,reactantLabels = PreprocessReaction(rxn_1)\n",
    "PreprocessReaction(rxn_1)\n",
    "ras=rxn_1.GetReactingAtoms()\n",
    "ras, nReacts"
   ]
  },
  {
   "cell_type": "code",
   "execution_count": 33,
   "metadata": {},
   "outputs": [
    {
     "data": {
      "image/png": "[encoded data removed]",
      "text/plain": [
       "<PIL.PngImagePlugin.PngImageFile image mode=RGB size=1200x200 at 0x229B856D208>"
      ]
     },
     "execution_count": 33,
     "metadata": {},
     "output_type": "execute_result"
    }
   ],
   "source": [
    "Draw.ReactionToImage(rxn_1)"
   ]
  },
  {
   "cell_type": "code",
   "execution_count": 34,
   "metadata": {},
   "outputs": [
    {
     "data": {
      "image/png": "[encoded data removed]",
      "text/plain": [
       "<PIL.PngImagePlugin.PngImageFile image mode=RGB size=800x200 at 0x22A59217588>"
      ]
     },
     "execution_count": 34,
     "metadata": {},
     "output_type": "execute_result"
    }
   ],
   "source": [
    "Draw.ReactionToImage(rxn_2)"
   ]
  },
  {
   "cell_type": "code",
   "execution_count": 76,
   "metadata": {},
   "outputs": [
    {
     "data": {
      "image/png": "[encoded data removed]",
      "text/plain": [
       "<PIL.PngImagePlugin.PngImageFile image mode=RGB size=800x200 at 0x29300848EF0>"
      ]
     },
     "execution_count": 76,
     "metadata": {},
     "output_type": "execute_result"
    }
   ],
   "source": [
    "Draw.ReactionToImage(rxn_3)"
   ]
  },
  {
   "cell_type": "code",
   "execution_count": 125,
   "metadata": {},
   "outputs": [
    {
     "data": {
      "image/png": "[encoded data removed]",
      "text/plain": [
       "<PIL.PngImagePlugin.PngImageFile image mode=RGB size=1000x200 at 0x2930966DF60>"
      ]
     },
     "execution_count": 125,
     "metadata": {},
     "output_type": "execute_result"
    }
   ],
   "source": [
    "Draw.ReactionToImage(rxn_4)"
   ]
  },
  {
   "cell_type": "code",
   "execution_count": 128,
   "metadata": {},
   "outputs": [
    {
     "data": {
      "image/png": "[encoded data removed]",
      "text/plain": [
       "<PIL.PngImagePlugin.PngImageFile image mode=RGB size=1000x200 at 0x2930966D748>"
      ]
     },
     "execution_count": 128,
     "metadata": {},
     "output_type": "execute_result"
    }
   ],
   "source": [
    "Draw.ReactionToImage(rxn_6)"
   ]
  },
  {
   "cell_type": "code",
   "execution_count": 27,
   "metadata": {},
   "outputs": [],
   "source": [
    "mol = AllChem.MolFromSmarts('[C:14]1(=O)[CH2:21]CCCCC[CH2:15]1.C1(C(C)=O)CC1')"
   ]
  },
  {
   "cell_type": "code",
   "execution_count": 28,
   "metadata": {},
   "outputs": [],
   "source": [
    "mol =  AllChem.MolFromSmarts('[C:1]([NH:5][NH:6][C:7]([C:12]#[N:13])([CH:9]1[CH2:11][CH2:10]1)[CH3:8])([CH3:4])([CH3:3])[CH3:2].[C:14]1(=O)[CH2:21]CCCCC[CH2:15]1.C1(C(C)=O)CC1')"
   ]
  },
  {
   "cell_type": "code",
   "execution_count": 72,
   "metadata": {},
   "outputs": [],
   "source": [
    "# I want to extract reactants and products from the reaction\n",
    "# iterator\n",
    "prods = rxn_1.GetProducts()\n",
    "reakts = rxn_1.GetReactants()"
   ]
  },
  {
   "cell_type": "code",
   "execution_count": 73,
   "metadata": {},
   "outputs": [],
   "source": [
    "x = [m for m in reakts]"
   ]
  },
  {
   "cell_type": "code",
   "execution_count": 74,
   "metadata": {},
   "outputs": [
    {
     "data": {
      "image/png": "[encoded data removed]",
      "text/plain": [
       "<PIL.Image.Image image mode=RGBA size=800x200 at 0x22A58D4BEF0>"
      ]
     },
     "execution_count": 74,
     "metadata": {},
     "output_type": "execute_result"
    }
   ],
   "source": [
    "Draw.MolsToImage(x)"
   ]
  },
  {
   "cell_type": "code",
   "execution_count": 188,
   "metadata": {},
   "outputs": [],
   "source": [
    "test = MolToSmiles(x[0])\n",
    "m = AllChem.MolFromSmiles(test, sanitize=True)"
   ]
  },
  {
   "cell_type": "code",
   "execution_count": 170,
   "metadata": {},
   "outputs": [],
   "source": [
    "fp = AllChem.GetMorganFingerprint(m,2)"
   ]
  },
  {
   "cell_type": "code",
   "execution_count": 171,
   "metadata": {},
   "outputs": [],
   "source": [
    "fp = AllChem.GetMorganFingerprintAsBitVect(m,2)\n",
    "fp = fp.ToBitString()"
   ]
  },
  {
   "cell_type": "code",
   "execution_count": 189,
   "metadata": {},
   "outputs": [],
   "source": [
    "fp_inchi = AllChem.inchi.MolToInchi(m)"
   ]
  },
  {
   "cell_type": "code",
   "execution_count": 190,
   "metadata": {},
   "outputs": [],
   "source": [
    "fp = [int(s) for s in fp]"
   ]
  },
  {
   "cell_type": "code",
   "execution_count": 174,
   "metadata": {},
   "outputs": [
    {
     "data": {
      "text/plain": [
       "'InChI=1S/C11H6N4O/c12-6-7-5-10-8-3-1-2-4-9(8)13-11(16)15(10)14-7/h1-5H,(H,13,16)'"
      ]
     },
     "execution_count": 174,
     "metadata": {},
     "output_type": "execute_result"
    }
   ],
   "source": [
    "fp_inchi"
   ]
  },
  {
   "cell_type": "code",
   "execution_count": 175,
   "metadata": {},
   "outputs": [],
   "source": [
    "from rdkit.Chem import MACCSkeys\n",
    "fp_macc = MACCSkeys.GenMACCSKeys(m).ToBitString()"
   ]
  },
  {
   "cell_type": "code",
   "execution_count": 176,
   "metadata": {},
   "outputs": [
    {
     "data": {
      "text/plain": [
       "'00000000000000000000000000000000000001000100000000001000000000000100000000000101100100000000001110100100011000100100010011101101000000000100001101001001001010000111110'"
      ]
     },
     "execution_count": 176,
     "metadata": {},
     "output_type": "execute_result"
    }
   ],
   "source": [
    "fp_macc"
   ]
  },
  {
   "cell_type": "code",
   "execution_count": 84,
   "metadata": {},
   "outputs": [
    {
     "data": {
      "text/plain": [
       "2048"
      ]
     },
     "execution_count": 84,
     "metadata": {},
     "output_type": "execute_result"
    }
   ],
   "source": [
    "len(fp)"
   ]
  },
  {
   "cell_type": "code",
   "execution_count": 191,
   "metadata": {},
   "outputs": [
    {
     "data": {
      "text/plain": [
       "{}"
      ]
     },
     "execution_count": 191,
     "metadata": {},
     "output_type": "execute_result"
    }
   ],
   "source": [
    "a = m.GetAtoms()[0]"
   ]
  },
  {
   "cell_type": "code",
   "execution_count": 192,
   "metadata": {},
   "outputs": [
    {
     "data": {
      "image/png": "[encoded data removed]",
      "text/plain": [
       "<PIL.Image.Image image mode=RGBA size=300x300 at 0x22A59297A58>"
      ]
     },
     "execution_count": 192,
     "metadata": {},
     "output_type": "execute_result"
    }
   ],
   "source": [
    "Draw.MolToImage(m)"
   ]
  },
  {
   "cell_type": "code",
   "execution_count": null,
   "metadata": {},
   "outputs": [],
   "source": [
    "fp = fp.ToBitString()"
   ]
  },
  {
   "cell_type": "code",
   "execution_count": 77,
   "metadata": {},
   "outputs": [
    {
     "data": {
      "text/plain": [
       "b'\\x00\\x00\\x00\\x00\\x00\\x00\\x00\\x00\\x00\\x00\\x00\\x00\\x00\\x00\\x00\\x00\\x00\\x00\\x00\\x00\\x08\\x00\\x00\\x00\\x00\\x00\\x00\\x00\\x00\\x00\\x04\\x00\\x00\\x00\\x00\\x00\\x00\\x00\\x00\\x00\\x00\\x00\\x00\\x00 \\x00\\x00 \\x00\\x00\\x00\\x00\\x00\\x00\\x00\\x00\\x00\\x00\\x00\\x00\\x00\\x00\\x00\\x00\\x00\\x00\\x00\\x00\\x00\\x00P\\x00\\x00\\x00\\x00\\x00\\x00\\x00\\x00\\x00\\x01 \\x00\\x00\\x00\\x00\\x00\\x00\\x00\\x18\\x00\\x00\\x00\\x00@\\x00 \\x00\\x00\\x00\\x00\\x00\\x00\\x00\\x02\\x00\\x00\\x00\\x00\\x10\\x00\\x02\\x00\\x00\\x00\\x00\\x00\\x00\\x00\\x00\\x00\\x00\\x00\\x00\\x10\\x00\\x00\\x00\\x00\\x01\\x00\\x00\\x00\\x00\\x00\\x01\\x80\\x00\\x00\\x00\\x00\\x00\\x00\\x00\\x00\\x00\\x00\\x00\\x00\\x10\\x00\\x00\\x00\\x00\\x00\\x00\\x00\\x00\\x00\\x00\\x00\\x08\\x00\\x00\\x00\\x00\\x00\\x00\\x00\\x04\\x00\\x00\\x08\\x00\\x00\\x00\\x00\\x00\\x00\\x00\\x00\\x08\\x00\\x00\\x00\\x00\\x00\\x00\\x00\\x00\\x00\\x01\\x00\\x00\\x00\\x00\\x00\\x00\\x00\\x00\\x00\\x00\\x00\\x00\\x00\\x00\\x00\\x00\\x00\\x00\\x10\\x00\\x00\\x00\\x00\\x00\\x00\\x00\\x02\\x02\\x00\\x00\\x00\\x00\\x00\\x00\\x00\\x00\\x00\\x00\\x00\\x01\\x00\\x00@\\x00\\x00\\x00\\x00\\x00\\x00\\x00\\x00\\x00\\x00\\x10\\x00\\x00\\x00\\x00\\x00\\x00\\x00\\x00\\x00\\x00'"
      ]
     },
     "execution_count": 77,
     "metadata": {},
     "output_type": "execute_result"
    }
   ],
   "source": [
    "\n",
    "def bitstring_to_bytes(s):\n",
    "    return int(s, 2).to_bytes(len(s) // 8, byteorder='big')\n",
    "a = bitstring_to_bytes(fp)\n",
    "a"
   ]
  },
  {
   "cell_type": "code",
   "execution_count": null,
   "metadata": {},
   "outputs": [],
   "source": []
  },
  {
   "cell_type": "markdown",
   "metadata": {},
   "source": [
    "# predict number of reactants"
   ]
  },
  {
   "cell_type": "code",
   "execution_count": null,
   "metadata": {},
   "outputs": [],
   "source": []
  },
  {
   "cell_type": "code",
   "execution_count": null,
   "metadata": {},
   "outputs": [],
   "source": []
  },
  {
   "cell_type": "code",
   "execution_count": 85,
   "metadata": {},
   "outputs": [
    {
     "name": "stdout",
     "output_type": "stream",
     "text": [
      "zpracovano:  0\n",
      "zpracovano:  10000\n",
      "zpracovano:  20000\n",
      "zpracovano:  30000\n",
      "zpracovano:  40000\n",
      "5\n"
     ]
    }
   ],
   "source": [
    "# x, y data\n",
    "reactions = []\n",
    "products = []\n",
    "y_morgans = []\n",
    "x_data = []\n",
    "counter = 0\n",
    "for i in range(len(data)):\n",
    "    if i % 10000 == 0:\n",
    "        print('zpracovano: ', i)\n",
    "    reaction = AllChem.ReactionFromSmarts(re.sub(r'\\|.+\\|', '', data.ReactionSmiles[i]))\n",
    "    reactions.append(reaction)    \n",
    "    product = reaction.GetProducts()\n",
    "    reaction.Initialize()\n",
    "    nWarn,nError,nReacts,nProds,reactantLabels = PreprocessReaction(reaction)\n",
    "    x = [m for m in product]\n",
    "    m = AllChem.MolToSmiles(x[-1], 2)\n",
    "    m = AllChem.MolFromSmiles(m, sanitize=True)\n",
    "    try:\n",
    "        fp = AllChem.GetMorganFingerprintAsBitVect(m,2)\n",
    "        fp = [int(s) for s in fp]\n",
    "        x_data.append(nProds)\n",
    "        products.append(product)\n",
    "        y_morgans.append(fp)\n",
    "    except:\n",
    "        counter +=1\n",
    "        \n",
    "print(counter)   "
   ]
  },
  {
   "cell_type": "code",
   "execution_count": null,
   "metadata": {},
   "outputs": [],
   "source": [
    "# ff network"
   ]
  },
  {
   "cell_type": "code",
   "execution_count": 50,
   "metadata": {},
   "outputs": [],
   "source": [
    "# packages\n",
    "import matplotlib\n",
    "matplotlib.use(\"Agg\")\n",
    "from numpy import array\n",
    "from numpy import argmax\n",
    "from sklearn.preprocessing import LabelEncoder\n",
    "from sklearn.preprocessing import OneHotEncoder\n",
    "from sklearn.preprocessing import LabelBinarizer\n",
    "from sklearn.model_selection import train_test_split\n",
    "from sklearn.metrics import classification_report\n",
    "from keras.models import Sequential\n",
    "from keras.layers.core import Dense\n",
    "from keras.optimizers import SGD\n",
    "#from imutils import paths\n",
    "import matplotlib.pyplot as plt\n",
    "import numpy as np\n",
    "import argparse\n",
    "import random\n",
    "import pickle\n",
    "#import cv2\n",
    "import os"
   ]
  },
  {
   "cell_type": "code",
   "execution_count": 86,
   "metadata": {},
   "outputs": [],
   "source": [
    "(trainX, testX, trainY, testY) = train_test_split(y_morgans, x_data, test_size=0.25, random_state=42) # mam to obracene"
   ]
  },
  {
   "cell_type": "code",
   "execution_count": 87,
   "metadata": {},
   "outputs": [],
   "source": [
    "label_encoder = LabelEncoder()\n",
    "trainY = label_encoder.fit_transform(trainY)\n",
    "testY = label_encoder.fit_transform(testY)"
   ]
  },
  {
   "cell_type": "code",
   "execution_count": 88,
   "metadata": {},
   "outputs": [],
   "source": [
    "# takhle to jde take\n",
    "lb = LabelBinarizer()\n",
    "trainY = lb.fit_transform(trainY)\n",
    "testY = lb.transform(testY)"
   ]
  },
  {
   "cell_type": "code",
   "execution_count": 89,
   "metadata": {},
   "outputs": [
    {
     "data": {
      "text/plain": [
       "array([[1, 0, 0, 0, 0, 0, 0, 0, 0, 0, 0, 0, 0, 0, 0, 0, 0],\n",
       "       [1, 0, 0, 0, 0, 0, 0, 0, 0, 0, 0, 0, 0, 0, 0, 0, 0],\n",
       "       [0, 1, 0, 0, 0, 0, 0, 0, 0, 0, 0, 0, 0, 0, 0, 0, 0],\n",
       "       [1, 0, 0, 0, 0, 0, 0, 0, 0, 0, 0, 0, 0, 0, 0, 0, 0],\n",
       "       [1, 0, 0, 0, 0, 0, 0, 0, 0, 0, 0, 0, 0, 0, 0, 0, 0]])"
      ]
     },
     "execution_count": 89,
     "metadata": {},
     "output_type": "execute_result"
    }
   ],
   "source": [
    "trainY[:5]"
   ]
  },
  {
   "cell_type": "code",
   "execution_count": 90,
   "metadata": {},
   "outputs": [],
   "source": [
    "# network"
   ]
  },
  {
   "cell_type": "code",
   "execution_count": 98,
   "metadata": {},
   "outputs": [
    {
     "data": {
      "text/plain": [
       "2048"
      ]
     },
     "execution_count": 98,
     "metadata": {},
     "output_type": "execute_result"
    }
   ],
   "source": [
    "len(fp)"
   ]
  },
  {
   "cell_type": "code",
   "execution_count": 106,
   "metadata": {},
   "outputs": [],
   "source": [
    "model = Sequential()\n",
    "model.add(Dense(int(len(fp)/2), input_shape=(len(fp),), activation=\"sigmoid\"))\n",
    "model.add(Dense(int(len(fp)/2), activation=\"sigmoid\"))\n",
    "model.add(Dense(len(lb.classes_), activation=\"softmax\"))"
   ]
  },
  {
   "cell_type": "code",
   "execution_count": 109,
   "metadata": {},
   "outputs": [],
   "source": [
    "INIT_LR = 0.01\n",
    "EPOCHS = 20\n",
    "opt = SGD(lr=INIT_LR)\n",
    "model.compile(loss=\"categorical_crossentropy\", optimizer=opt, metrics=[\"accuracy\"])"
   ]
  },
  {
   "cell_type": "code",
   "execution_count": 110,
   "metadata": {},
   "outputs": [
    {
     "name": "stdout",
     "output_type": "stream",
     "text": [
      "Train on 37496 samples, validate on 12499 samples\n",
      "Epoch 1/20\n",
      "37496/37496 [==============================] - 25s 668us/step - loss: 0.5137 - acc: 0.8633 - val_loss: 0.4995 - val_acc: 0.8657\n",
      "Epoch 2/20\n",
      "37496/37496 [==============================] - 25s 657us/step - loss: 0.5114 - acc: 0.8633 - val_loss: 0.5109 - val_acc: 0.8657\n",
      "Epoch 3/20\n",
      "37496/37496 [==============================] - 25s 654us/step - loss: 0.5108 - acc: 0.8633 - val_loss: 0.5113 - val_acc: 0.8657\n",
      "Epoch 4/20\n",
      "37496/37496 [==============================] - 25s 656us/step - loss: 0.5076 - acc: 0.8633 - val_loss: 0.4950 - val_acc: 0.8657\n",
      "Epoch 5/20\n",
      "37496/37496 [==============================] - 25s 655us/step - loss: 0.5053 - acc: 0.8633 - val_loss: 0.5055 - val_acc: 0.8657\n",
      "Epoch 6/20\n",
      "37496/37496 [==============================] - 25s 658us/step - loss: 0.5026 - acc: 0.8633 - val_loss: 0.4884 - val_acc: 0.8657\n",
      "Epoch 7/20\n",
      "37496/37496 [==============================] - 25s 658us/step - loss: 0.4994 - acc: 0.8633 - val_loss: 0.5197 - val_acc: 0.8657\n",
      "Epoch 8/20\n",
      "37496/37496 [==============================] - 26s 686us/step - loss: 0.4950 - acc: 0.8633 - val_loss: 0.4818 - val_acc: 0.8657\n",
      "Epoch 9/20\n",
      "37496/37496 [==============================] - 25s 658us/step - loss: 0.4883 - acc: 0.8633 - val_loss: 0.4816 - val_acc: 0.8657\n",
      "Epoch 10/20\n",
      "37496/37496 [==============================] - 25s 660us/step - loss: 0.4832 - acc: 0.8633 - val_loss: 0.5064 - val_acc: 0.8657\n",
      "Epoch 11/20\n",
      "37496/37496 [==============================] - 25s 661us/step - loss: 0.4773 - acc: 0.8633 - val_loss: 0.4640 - val_acc: 0.8657\n",
      "Epoch 12/20\n",
      "37496/37496 [==============================] - 25s 661us/step - loss: 0.4722 - acc: 0.8634 - val_loss: 0.4638 - val_acc: 0.8657\n",
      "Epoch 13/20\n",
      "37496/37496 [==============================] - 25s 662us/step - loss: 0.4655 - acc: 0.8634 - val_loss: 0.4696 - val_acc: 0.8657\n",
      "Epoch 14/20\n",
      "37496/37496 [==============================] - 25s 660us/step - loss: 0.4592 - acc: 0.8636 - val_loss: 0.5545 - val_acc: 0.8483\n",
      "Epoch 15/20\n",
      "37496/37496 [==============================] - 25s 660us/step - loss: 0.4517 - acc: 0.8642 - val_loss: 0.4498 - val_acc: 0.8657\n",
      "Epoch 16/20\n",
      "37496/37496 [==============================] - 25s 658us/step - loss: 0.4472 - acc: 0.8652 - val_loss: 0.4507 - val_acc: 0.8705\n",
      "Epoch 17/20\n",
      "37496/37496 [==============================] - 25s 659us/step - loss: 0.4414 - acc: 0.8656 - val_loss: 0.4466 - val_acc: 0.8657\n",
      "Epoch 18/20\n",
      "37496/37496 [==============================] - 25s 659us/step - loss: 0.4360 - acc: 0.8665 - val_loss: 0.4300 - val_acc: 0.8685\n",
      "Epoch 19/20\n",
      "37496/37496 [==============================] - 25s 657us/step - loss: 0.4302 - acc: 0.8675 - val_loss: 0.4272 - val_acc: 0.8722\n",
      "Epoch 20/20\n",
      "37496/37496 [==============================] - 26s 693us/step - loss: 0.4263 - acc: 0.8690 - val_loss: 0.4395 - val_acc: 0.8734\n"
     ]
    }
   ],
   "source": [
    "H = model.fit(np.array(trainX), np.array(trainY), validation_data=(np.array(testX), np.array(testY)), epochs=EPOCHS, batch_size=32)"
   ]
  },
  {
   "cell_type": "code",
   "execution_count": 123,
   "metadata": {},
   "outputs": [],
   "source": [
    "preds = model.predict(np.array(testX))"
   ]
  },
  {
   "cell_type": "code",
   "execution_count": 128,
   "metadata": {},
   "outputs": [
    {
     "data": {
      "text/plain": [
       "array([7.1077627e-01, 2.4207644e-01, 2.8742108e-02, 1.1436752e-02,\n",
       "       3.2065562e-03, 9.5391559e-04, 1.3936171e-03, 2.9877486e-04,\n",
       "       2.1526474e-04, 2.6102152e-04, 2.6654097e-04, 9.5221454e-05,\n",
       "       5.6075318e-05, 5.6257973e-05, 5.4563767e-05, 5.5535405e-05,\n",
       "       5.5016109e-05], dtype=float32)"
      ]
     },
     "execution_count": 128,
     "metadata": {},
     "output_type": "execute_result"
    }
   ],
   "source": [
    "preds[1]"
   ]
  },
  {
   "cell_type": "code",
   "execution_count": 134,
   "metadata": {},
   "outputs": [
    {
     "data": {
      "text/plain": [
       "array([1., 0., 0., 0., 0., 0., 0., 0., 0., 0., 0., 0., 0., 0., 0., 0., 0.],\n",
       "      dtype=float32)"
      ]
     },
     "execution_count": 134,
     "metadata": {},
     "output_type": "execute_result"
    }
   ],
   "source": [
    "np.rint(preds[1])"
   ]
  },
  {
   "cell_type": "code",
   "execution_count": 131,
   "metadata": {},
   "outputs": [
    {
     "data": {
      "text/plain": [
       "array([1, 0, 0, 0, 0, 0, 0, 0, 0, 0, 0, 0, 0, 0, 0, 0, 0])"
      ]
     },
     "execution_count": 131,
     "metadata": {},
     "output_type": "execute_result"
    }
   ],
   "source": [
    "Y = testY[1]\n",
    "Y"
   ]
  },
  {
   "cell_type": "code",
   "execution_count": null,
   "metadata": {},
   "outputs": [],
   "source": [
    "# MACCS keys"
   ]
  },
  {
   "cell_type": "code",
   "execution_count": 162,
   "metadata": {},
   "outputs": [
    {
     "name": "stdout",
     "output_type": "stream",
     "text": [
      "zpracovano:  0\n",
      "zpracovano:  10000\n",
      "zpracovano:  20000\n",
      "zpracovano:  30000\n",
      "zpracovano:  40000\n",
      "5\n"
     ]
    }
   ],
   "source": [
    "# x, y data\n",
    "reactions = []\n",
    "products = []\n",
    "y_morgans = []\n",
    "x_data = []\n",
    "counter = 0\n",
    "for i in range(len(data)):\n",
    "    if i % 10000 == 0:\n",
    "        print('zpracovano: ', i)\n",
    "    reaction = AllChem.ReactionFromSmarts(re.sub(r'\\|.+\\|', '', data.ReactionSmiles[i]))\n",
    "    reactions.append(reaction)    \n",
    "    product = reaction.GetProducts()\n",
    "    reaction.Initialize()\n",
    "    nWarn,nError,nReacts,nProds,reactantLabels = PreprocessReaction(reaction)\n",
    "    x = [m for m in product]\n",
    "    m = AllChem.MolToSmiles(x[-1], 2)\n",
    "    m = AllChem.MolFromSmiles(m, sanitize=True)\n",
    "    try:\n",
    "        fp = MACCSkeys.GenMACCSKeys(m).ToBitString()\n",
    "        fp = [int(s) for s in fp]\n",
    "        x_data.append(nProds)\n",
    "        products.append(product)\n",
    "        y_morgans.append(fp)\n",
    "    except:\n",
    "        counter +=1\n",
    "        \n",
    "print(counter)   "
   ]
  },
  {
   "cell_type": "code",
   "execution_count": 163,
   "metadata": {},
   "outputs": [
    {
     "data": {
      "text/plain": [
       "'00000000000000000000000000000000000000000000000000001000000000100000010000000010000000000011101101100000100001110110011111001011000010000100001111010011111111111111110'"
      ]
     },
     "execution_count": 163,
     "metadata": {},
     "output_type": "execute_result"
    }
   ],
   "source": [
    "np.array(trainX)[0]"
   ]
  },
  {
   "cell_type": "code",
   "execution_count": 164,
   "metadata": {},
   "outputs": [],
   "source": [
    "(trainX, testX, trainY, testY) = train_test_split(y_morgans, x_data, test_size=0.25, random_state=42) # mam to obracene\n",
    "# takhle to jde take\n",
    "lb = LabelBinarizer()\n",
    "trainY = lb.fit_transform(trainY)\n",
    "testY = lb.transform(testY)\n",
    "\n",
    "model2 = Sequential()\n",
    "model2.add(Dense(len(fp), input_shape=(len(fp),), activation=\"sigmoid\"))\n",
    "model2.add(Dense(int(len(fp)/2), activation=\"sigmoid\"))\n",
    "model2.add(Dense(len(lb.classes_), activation=\"softmax\"))"
   ]
  },
  {
   "cell_type": "code",
   "execution_count": 165,
   "metadata": {},
   "outputs": [],
   "source": [
    "INIT_LR = 0.01\n",
    "EPOCHS = 3\n",
    "opt = SGD(lr=INIT_LR)\n",
    "model2.compile(loss=\"categorical_crossentropy\", optimizer=opt, metrics=[\"accuracy\"])"
   ]
  },
  {
   "cell_type": "code",
   "execution_count": 167,
   "metadata": {},
   "outputs": [
    {
     "name": "stdout",
     "output_type": "stream",
     "text": [
      "Train on 37496 samples, validate on 12499 samples\n",
      "Epoch 1/3\n",
      "37496/37496 [==============================] - 4s 104us/step - loss: 0.5491 - acc: 0.8609 - val_loss: 0.5033 - val_acc: 0.8657\n",
      "Epoch 2/3\n",
      "37496/37496 [==============================] - 1s 38us/step - loss: 0.5062 - acc: 0.8633 - val_loss: 0.4971 - val_acc: 0.8657\n",
      "Epoch 3/3\n",
      "37496/37496 [==============================] - 1s 38us/step - loss: 0.5009 - acc: 0.8633 - val_loss: 0.4919 - val_acc: 0.8657\n"
     ]
    }
   ],
   "source": [
    "H2 = model2.fit(np.array(trainX), np.array(trainY), validation_data=(np.array(testX), np.array(testY)), epochs=EPOCHS, batch_size=32)"
   ]
  },
  {
   "cell_type": "markdown",
   "metadata": {},
   "source": []
  },
  {
   "cell_type": "code",
   "execution_count": null,
   "metadata": {},
   "outputs": [],
   "source": []
  },
  {
   "cell_type": "code",
   "execution_count": 196,
   "metadata": {},
   "outputs": [],
   "source": [
    "#Smiles sequence to vector"
   ]
  },
  {
   "cell_type": "code",
   "execution_count": 365,
   "metadata": {},
   "outputs": [],
   "source": [
    "new_Data = (data.ReactionSmiles.str.replace(r'\\d*:\\d*', ''))"
   ]
  },
  {
   "cell_type": "code",
   "execution_count": 366,
   "metadata": {},
   "outputs": [
    {
     "data": {
      "text/plain": [
       "0        [Br][CH][CH][OH].[CH]([S](Cl)(=[O])=[O])[CH].C...\n",
       "1        [Br][CH][CH][CH][OH].[CH][S](Cl)(=[O])=[O].CCO...\n",
       "2        [CH]([Cl])[CH][OH].CCOCC.[CH]([S](Cl)(=[O])=[O...\n",
       "3        [Br][CH][CH][OH].[CH]([S](Cl)(=[O])=[O])[CH].C...\n",
       "4        [Br][CH][CH][CH][OH].[CH][S](Cl)(=[O])=[O].CCO...\n",
       "                               ...                        \n",
       "49995    [O]1[CH][CH][C](=[O])[CH][CH]1.[CH][C]1[CH]=[C...\n",
       "49996    [CH][O][C]1[C]([CH])=[CH][C]([CH]=[C]2[C](=O)[...\n",
       "49997    [NH]1[C]2[C](=[CH][CH]=[CH][CH]=2)[C](=O)[C]1=...\n",
       "49998    [OH][CH][C]1[CH]=[C]2[N]([C](=[O])[NH][C]3[CH]...\n",
       "49999    [N+](=[C]1[C]2[C](=[CH][CH]=[CH][CH]=2)[NH][C]...\n",
       "Name: ReactionSmiles, Length: 50000, dtype: object"
      ]
     },
     "execution_count": 366,
     "metadata": {},
     "output_type": "execute_result"
    }
   ],
   "source": [
    "new_Data"
   ]
  },
  {
   "cell_type": "code",
   "execution_count": 367,
   "metadata": {},
   "outputs": [
    {
     "data": {
      "text/html": [
       "<div>\n",
       "<style scoped>\n",
       "    .dataframe tbody tr th:only-of-type {\n",
       "        vertical-align: middle;\n",
       "    }\n",
       "\n",
       "    .dataframe tbody tr th {\n",
       "        vertical-align: top;\n",
       "    }\n",
       "\n",
       "    .dataframe thead th {\n",
       "        text-align: right;\n",
       "    }\n",
       "</style>\n",
       "<table border=\"1\" class=\"dataframe\">\n",
       "  <thead>\n",
       "    <tr style=\"text-align: right;\">\n",
       "      <th></th>\n",
       "      <th>0</th>\n",
       "      <th>1</th>\n",
       "    </tr>\n",
       "  </thead>\n",
       "  <tbody>\n",
       "    <tr>\n",
       "      <td>7</td>\n",
       "      <td>[CH][C]1[N+]([O-])=[CH][C]2[C]([CH]=1)=[C]([N+...</td>\n",
       "      <td>[Cl][C]1[C]2[C](=[C]([N+]([O-])=[O])[CH]=[CH][...</td>\n",
       "    </tr>\n",
       "    <tr>\n",
       "      <td>8</td>\n",
       "      <td>[CH][C]1[N]=[CH][C]2[C]([CH]=1)=[C]([N+]([O-])...</td>\n",
       "      <td>[ClH].[CH][C]1[N]=[CH][C]2[C]([CH]=1)=[C]([N+]...</td>\n",
       "    </tr>\n",
       "    <tr>\n",
       "      <td>9</td>\n",
       "      <td>CC1N=CC2C(C=1)=C([N+]([O-])=O)C=CC=2.[Cl][C]1[...</td>\n",
       "      <td>[ClH].[Cl][C]1[C]2[C](=[CH][CH]=[CH][CH]=2)[CH...</td>\n",
       "    </tr>\n",
       "    <tr>\n",
       "      <td>10</td>\n",
       "      <td>CC1N=CC2C(C=1)=C([N+]([O-])=O)C=CC=2.[Cl][C]1[...</td>\n",
       "      <td>[IH].[Cl][C]1[CH]=[CH][C]([N+]([O-])=[O])=[C]2...</td>\n",
       "    </tr>\n",
       "    <tr>\n",
       "      <td>12</td>\n",
       "      <td>[N+](C1C=CC=C2C=1C=CN=C2)([O-])=O.[CH][C]1[C]2...</td>\n",
       "      <td>[Cl][C]1[C]([O-])=[C]([Cl])[C]([Cl])=[C]([Cl])...</td>\n",
       "    </tr>\n",
       "    <tr>\n",
       "      <td>...</td>\n",
       "      <td>...</td>\n",
       "      <td>...</td>\n",
       "    </tr>\n",
       "    <tr>\n",
       "      <td>49969</td>\n",
       "      <td>[C]([C]1([OH])[CH][CH][CH][CH][CH]1)#[CH].C([O...</td>\n",
       "      <td>[CH][S]([CH]([CH][C]#[C][C]1([OH])[CH][CH][CH]...</td>\n",
       "    </tr>\n",
       "    <tr>\n",
       "      <td>49970</td>\n",
       "      <td>[CH][S]([CH]([CH][C]#[C][C@@H]([OH])[CH][CH][C...</td>\n",
       "      <td>[CH][S]([CH]([CH][CH][CH][C]1([OH])[CH][CH][CH...</td>\n",
       "    </tr>\n",
       "    <tr>\n",
       "      <td>49971</td>\n",
       "      <td>[CH][S]([CH]([CH][CH][CH][CH]([O]C(=O)C)[CH][C...</td>\n",
       "      <td>[CH][S]([CH]([CH][CH][CH][CH]([OH])[CH][CH][CH...</td>\n",
       "    </tr>\n",
       "    <tr>\n",
       "      <td>49988</td>\n",
       "      <td>N1C2C(=NC3C=CC=CC=3N=2)C(=O)NC=1[C]([OH])=[O]....</td>\n",
       "      <td>[CH]([O][C]([C]1[NH][C](=[O])[C]2=[N][C]3[CH]=...</td>\n",
       "    </tr>\n",
       "    <tr>\n",
       "      <td>49997</td>\n",
       "      <td>[NH]1[C]2[C](=[CH][CH]=[CH][CH]=2)[C](=O)[C]1=...</td>\n",
       "      <td>[N+](=[C]1[C]2[C](=[CH][CH]=[CH][CH]=2)[NH][C]...</td>\n",
       "    </tr>\n",
       "  </tbody>\n",
       "</table>\n",
       "<p>13021 rows × 2 columns</p>\n",
       "</div>"
      ],
      "text/plain": [
       "                                                       0  \\\n",
       "7      [CH][C]1[N+]([O-])=[CH][C]2[C]([CH]=1)=[C]([N+...   \n",
       "8      [CH][C]1[N]=[CH][C]2[C]([CH]=1)=[C]([N+]([O-])...   \n",
       "9      CC1N=CC2C(C=1)=C([N+]([O-])=O)C=CC=2.[Cl][C]1[...   \n",
       "10     CC1N=CC2C(C=1)=C([N+]([O-])=O)C=CC=2.[Cl][C]1[...   \n",
       "12     [N+](C1C=CC=C2C=1C=CN=C2)([O-])=O.[CH][C]1[C]2...   \n",
       "...                                                  ...   \n",
       "49969  [C]([C]1([OH])[CH][CH][CH][CH][CH]1)#[CH].C([O...   \n",
       "49970  [CH][S]([CH]([CH][C]#[C][C@@H]([OH])[CH][CH][C...   \n",
       "49971  [CH][S]([CH]([CH][CH][CH][CH]([O]C(=O)C)[CH][C...   \n",
       "49988  N1C2C(=NC3C=CC=CC=3N=2)C(=O)NC=1[C]([OH])=[O]....   \n",
       "49997  [NH]1[C]2[C](=[CH][CH]=[CH][CH]=2)[C](=O)[C]1=...   \n",
       "\n",
       "                                                       1  \n",
       "7      [Cl][C]1[C]2[C](=[C]([N+]([O-])=[O])[CH]=[CH][...  \n",
       "8      [ClH].[CH][C]1[N]=[CH][C]2[C]([CH]=1)=[C]([N+]...  \n",
       "9      [ClH].[Cl][C]1[C]2[C](=[CH][CH]=[CH][CH]=2)[CH...  \n",
       "10     [IH].[Cl][C]1[CH]=[CH][C]([N+]([O-])=[O])=[C]2...  \n",
       "12     [Cl][C]1[C]([O-])=[C]([Cl])[C]([Cl])=[C]([Cl])...  \n",
       "...                                                  ...  \n",
       "49969  [CH][S]([CH]([CH][C]#[C][C]1([OH])[CH][CH][CH]...  \n",
       "49970  [CH][S]([CH]([CH][CH][CH][C]1([OH])[CH][CH][CH...  \n",
       "49971  [CH][S]([CH]([CH][CH][CH][CH]([OH])[CH][CH][CH...  \n",
       "49988  [CH]([O][C]([C]1[NH][C](=[O])[C]2=[N][C]3[CH]=...  \n",
       "49997  [N+](=[C]1[C]2[C](=[CH][CH]=[CH][CH]=2)[NH][C]...  \n",
       "\n",
       "[13021 rows x 2 columns]"
      ]
     },
     "execution_count": 367,
     "metadata": {},
     "output_type": "execute_result"
    }
   ],
   "source": [
    "reactions_all = new_Data.str.split(\">>\", n = 1, expand = True)\n",
    "reactions_all = reactions_all.mask(reactions_all.eq('None')).dropna()\n",
    "reactions_all"
   ]
  },
  {
   "cell_type": "code",
   "execution_count": 398,
   "metadata": {},
   "outputs": [
    {
     "ename": "TypeError",
     "evalue": "sequence item 0: expected str instance, list found",
     "output_type": "error",
     "traceback": [
      "\u001b[1;31m---------------------------------------------------------------------------\u001b[0m",
      "\u001b[1;31mTypeError\u001b[0m                                 Traceback (most recent call last)",
      "\u001b[1;32m<ipython-input-398-71afce1ef924>\u001b[0m in \u001b[0;36m<module>\u001b[1;34m\u001b[0m\n\u001b[1;32m----> 1\u001b[1;33m \u001b[0mcharset\u001b[0m \u001b[1;33m=\u001b[0m \u001b[0mset\u001b[0m\u001b[1;33m(\u001b[0m\u001b[1;34m\"\"\u001b[0m\u001b[1;33m.\u001b[0m\u001b[0mjoin\u001b[0m\u001b[1;33m(\u001b[0m\u001b[0mlist\u001b[0m\u001b[1;33m(\u001b[0m\u001b[0mproducts\u001b[0m\u001b[1;33m)\u001b[0m\u001b[1;33m)\u001b[0m\u001b[1;33m+\u001b[0m\u001b[1;34m\"!E\"\u001b[0m\u001b[1;33m)\u001b[0m\u001b[1;33m\u001b[0m\u001b[1;33m\u001b[0m\u001b[0m\n\u001b[0m\u001b[0;32m      2\u001b[0m \u001b[0mchar_to_int\u001b[0m \u001b[1;33m=\u001b[0m \u001b[0mdict\u001b[0m\u001b[1;33m(\u001b[0m\u001b[1;33m(\u001b[0m\u001b[0mc\u001b[0m\u001b[1;33m,\u001b[0m\u001b[0mi\u001b[0m\u001b[1;33m)\u001b[0m \u001b[1;32mfor\u001b[0m \u001b[0mi\u001b[0m\u001b[1;33m,\u001b[0m\u001b[0mc\u001b[0m \u001b[1;32min\u001b[0m \u001b[0menumerate\u001b[0m\u001b[1;33m(\u001b[0m\u001b[0mcharset\u001b[0m\u001b[1;33m)\u001b[0m\u001b[1;33m)\u001b[0m\u001b[1;33m\u001b[0m\u001b[1;33m\u001b[0m\u001b[0m\n\u001b[0;32m      3\u001b[0m \u001b[0mint_to_char\u001b[0m \u001b[1;33m=\u001b[0m \u001b[0mdict\u001b[0m\u001b[1;33m(\u001b[0m\u001b[1;33m(\u001b[0m\u001b[0mi\u001b[0m\u001b[1;33m,\u001b[0m\u001b[0mc\u001b[0m\u001b[1;33m)\u001b[0m \u001b[1;32mfor\u001b[0m \u001b[0mi\u001b[0m\u001b[1;33m,\u001b[0m\u001b[0mc\u001b[0m \u001b[1;32min\u001b[0m \u001b[0menumerate\u001b[0m\u001b[1;33m(\u001b[0m\u001b[0mcharset\u001b[0m\u001b[1;33m)\u001b[0m\u001b[1;33m)\u001b[0m\u001b[1;33m\u001b[0m\u001b[1;33m\u001b[0m\u001b[0m\n\u001b[0;32m      4\u001b[0m \u001b[0membed\u001b[0m \u001b[1;33m=\u001b[0m \u001b[0mmax\u001b[0m\u001b[1;33m(\u001b[0m\u001b[1;33m[\u001b[0m\u001b[0mlen\u001b[0m\u001b[1;33m(\u001b[0m\u001b[0mreact\u001b[0m\u001b[1;33m)\u001b[0m \u001b[1;32mfor\u001b[0m \u001b[0mreact\u001b[0m \u001b[1;32min\u001b[0m \u001b[0mreactions_all\u001b[0m\u001b[1;33m[\u001b[0m\u001b[1;36m1\u001b[0m\u001b[1;33m]\u001b[0m\u001b[1;33m]\u001b[0m\u001b[1;33m)\u001b[0m \u001b[1;33m+\u001b[0m \u001b[1;36m5\u001b[0m\u001b[1;33m\u001b[0m\u001b[1;33m\u001b[0m\u001b[0m\n\u001b[0;32m      5\u001b[0m \u001b[0mprint\u001b[0m\u001b[1;33m(\u001b[0m\u001b[0mstr\u001b[0m\u001b[1;33m(\u001b[0m\u001b[0mcharset\u001b[0m\u001b[1;33m)\u001b[0m\u001b[1;33m)\u001b[0m\u001b[1;33m\u001b[0m\u001b[1;33m\u001b[0m\u001b[0m\n",
      "\u001b[1;31mTypeError\u001b[0m: sequence item 0: expected str instance, list found"
     ]
    }
   ],
   "source": [
    "charset = set(\"\".join(list(products))+\"!E\")\n",
    "char_to_int = dict((c,i) for i,c in enumerate(charset))\n",
    "int_to_char = dict((i,c) for i,c in enumerate(charset))\n",
    "embed = max([len(react) for react in reactions_all[1]]) + 5\n",
    "print(str(charset))\n",
    "print(len(charset), embed)"
   ]
  },
  {
   "cell_type": "code",
   "execution_count": 348,
   "metadata": {},
   "outputs": [],
   "source": [
    "def vectorize(smiles):\n",
    "        one_hot =  np.zeros((smiles.shape[0], embed , len(charset)),dtype=np.int8)\n",
    "        for i,smile in enumerate(smiles):\n",
    "            #encode the startchar\n",
    "            one_hot[i,0,char_to_int[\"!\"]] = 1\n",
    "            #encode the rest of the chars\n",
    "            for j,c in enumerate(smile):\n",
    "                one_hot[i,j+1,char_to_int[c]] = 1\n",
    "            #Encode endchar\n",
    "            one_hot[i,len(smile)+1:,char_to_int[\"E\"]] = 1\n",
    "        #Return two, one for input and the other for output\n",
    "        return one_hot[:,0:-1,:], one_hot[:,1:,:]\n"
   ]
  },
  {
   "cell_type": "code",
   "execution_count": 292,
   "metadata": {},
   "outputs": [],
   "source": [
    "reactants_mat = vectorize(reactions_all[0].values)  \n",
    "products_mat = vectorize(reactions_all[1].values)"
   ]
  },
  {
   "cell_type": "code",
   "execution_count": 290,
   "metadata": {},
   "outputs": [
    {
     "data": {
      "text/plain": [
       "((1377, 59), (13021,))"
      ]
     },
     "execution_count": 290,
     "metadata": {},
     "output_type": "execute_result"
    }
   ],
   "source": [
    "reactants_vec[0][0].shape, reactions_all[0].shape"
   ]
  },
  {
   "cell_type": "code",
   "execution_count": 242,
   "metadata": {},
   "outputs": [
    {
     "data": {
      "text/plain": [
       "'![CH3:1][C:2]1[N+:3]([O-])=[CH:4][C:5]2[C:10]([CH:11]=1)=[C:9]([N+:12]([O-:14])=[O:13])[CH:8]=[CH:7][CH:6]=2.P(Cl)(Cl)([Cl:18])=OEEEEEEEEEEEEEEEEEEEEEEEEEEEEEEEEEEEEEEEEEEEEEEEEEEEEEEEEEEEEEEEEEEEEEEEEEEEEEEEEEEEEEEEEEEEEEEEEEEEEEEEEEEEEEEEEEEEEEEEEEEEEEEEEEEEEEEEEEEEEEEEEEEEEEEEEEEEEEEEEEEEEEEEEEEEEEEEEEEEEEEEEEEEEEEEEEEEEEEEEEEEEEEEEEEEEEEEEEEEEEEEEEEEEEEEEEEEEEEEEEEEEEEEEEEEEEEEEEEEEEEEEEEEEEEEEEEEEEEEEEEEEEEEEEEEEEEEEEEEEEEEEEEEEEEEEEEEEEEEEEEEEEEEEEEEEEEEEEEEEEEEEEEEEEEEEEEEEEEEEEEEEEEEEEEEEEEEEEEEEEEEEEEEEEEEEEEEEEEEEEEEEEEEEEEEEEEEEEEEEEEEEEEEEEEEEEEEEEEEEEEEEEEEEEEEEEEEEEEEEEEEEEEEEEEEEEEEEEEEEEEEEEEEEEEEEEEEEEEEEEEEEEEEEEEEEEEEEEEEEEEEEEEEEEEEEEEEEEEEEEEEEEEEEEEEEEEEEEEEEEEEEEEEEEEEEEEEEEEEEEEEEEEEEEEEEEEEEEEEEEEEEEEEEEEEEEEEEEEEEEEEEEEEEEEEEEEEEEEEEEEEEEEEEEEEEEEEEEEEEEEEEEEEEEEEEEEEEEEEEEEEEEEEEEEEEEEEEEEEEEEEEEEEEEEEEEEEEEEEEEEEEEEEEEEEEEEEEEEEEEEEEEEEEEEEEEEEEEEEEEEEEEEEEEEEEEEEEEEEEEEEEEEEEEEEEEEEEEEEEEEEEEEEEEEEEEEEEEEEEEEEEEEEEEEEEEEEEEEEEEEEEEEEEEEEEEEEEEEEEEEEEEEEEEEEEEEEEEEEEEEEEEEEEEEEEEEEEEEEEEEEEEEEEEEEEEEEEEEEEEEEEEEEEEEEEEEEEEEEEEEEEEEEEEEEEEEEEEEEEEEEEEEEEEEEEEEEEEEEEEEEEEEEEEEEEEEEEEEEEEEEEEEEEEEEEEEEEEEEEEEEEEEEEEEEEEEEEEEEEEEEEEEEEEEEEEEEEEEEEEEEEEEEEEEEEEEEEEEEEEEEEEEEEEEEEEEEEEEEEEEEEEEEEEEEEEEEEEEEEEEEEEEEEEEEEEEEEEEEEEEEEEEEEEEEEEEEEEEEEEEEEEEEEEEEEEEEEEEEEEEEEEEEEEEEEEEEEEEEEEEEEEEEEEEEEEEEEEEEEEEEEEEEEEEEEEEEEEEEEEEEEEEEE'"
      ]
     },
     "execution_count": 242,
     "metadata": {},
     "output_type": "execute_result"
    }
   ],
   "source": [
    "back = \"\".join([int_to_char[idx] for idx in np.argmax(reactants_vec[0][0], axis=1)])\n",
    "back"
   ]
  },
  {
   "cell_type": "code",
   "execution_count": 232,
   "metadata": {},
   "outputs": [
    {
     "data": {
      "text/plain": [
       "<matplotlib.image.AxesImage at 0x22b9b513c18>"
      ]
     },
     "execution_count": 232,
     "metadata": {},
     "output_type": "execute_result"
    },
    {
     "data": {
      "image/png": "[encoded data removed]",
      "text/plain": [
       "<Figure size 288x311.04 with 1 Axes>"
      ]
     },
     "metadata": {
      "needs_background": "light"
     },
     "output_type": "display_data"
    }
   ],
   "source": [
    "from matplotlib import pyplot as plt\n",
    "%matplotlib inline\n",
    "plt.matshow(reactants_vec[0][0][0:50].T)"
   ]
  },
  {
   "cell_type": "code",
   "execution_count": null,
   "metadata": {},
   "outputs": [],
   "source": []
  },
  {
   "cell_type": "code",
   "execution_count": 281,
   "metadata": {},
   "outputs": [
    {
     "data": {
      "text/plain": [
       "(13021, 1377, 59)"
      ]
     },
     "execution_count": 281,
     "metadata": {},
     "output_type": "execute_result"
    }
   ],
   "source": [
    "reactants_vec[0].shape"
   ]
  },
  {
   "cell_type": "code",
   "execution_count": 293,
   "metadata": {},
   "outputs": [
    {
     "name": "stdout",
     "output_type": "stream",
     "text": [
      "(13021, 81243)\n"
     ]
    }
   ],
   "source": [
    "reactants_vec = reactants_mat[0].reshape((len(reactants_mat[0]), np.prod(reactants_mat[0].shape[1:])))\n",
    "products_vec = products_mat[0].reshape((len(products_mat[0]), np.prod(products_mat[0].shape[1:])))\n",
    "print(reactants_vec.shape)"
   ]
  },
  {
   "cell_type": "code",
   "execution_count": 294,
   "metadata": {},
   "outputs": [],
   "source": [
    "(trainX, testX, trainY, testY) = train_test_split(reactants_vec, products_vec, test_size=0.25, random_state=42)\n",
    "trainX = np.array(trainX)\n",
    "testX = np.array(testX)\n",
    "trainY = np.array(trainY)\n",
    "testY = np.array(testY)"
   ]
  },
  {
   "cell_type": "code",
   "execution_count": 295,
   "metadata": {},
   "outputs": [],
   "source": [
    "from keras.layers import Input, Dense\n",
    "from keras.models import Model\n",
    "\n",
    "# this is the size of our encoded representations\n",
    "encoding_dim = 59  # 32 floats -> compression of factor 24.5, assuming the input is 784 floats\n",
    "\n",
    "# this is our input placeholder\n",
    "input_img = Input(shape=(81243,))\n",
    "# \"encoded\" is the encoded representation of the input\n",
    "encoded = Dense(encoding_dim, activation='relu')(input_img)\n",
    "# \"decoded\" is the lossy reconstruction of the input\n",
    "decoded = Dense(81243, activation='sigmoid')(encoded)\n",
    "\n",
    "# this model maps an input to its reconstruction\n",
    "autoencoder = Model(input_img, decoded)"
   ]
  },
  {
   "cell_type": "code",
   "execution_count": 296,
   "metadata": {},
   "outputs": [],
   "source": [
    "# this model maps an input to its encoded representation\n",
    "encoder = Model(input_img, encoded)"
   ]
  },
  {
   "cell_type": "code",
   "execution_count": 297,
   "metadata": {},
   "outputs": [],
   "source": [
    "# create a placeholder for an encoded (32-dimensional) input\n",
    "encoded_input = Input(shape=(encoding_dim,))\n",
    "# retrieve the last layer of the autoencoder model\n",
    "decoder_layer = autoencoder.layers[-1]\n",
    "# create the decoder model\n",
    "decoder = Model(encoded_input, decoder_layer(encoded_input))"
   ]
  },
  {
   "cell_type": "code",
   "execution_count": 298,
   "metadata": {},
   "outputs": [],
   "source": [
    "autoencoder.compile(optimizer='adadelta', loss='binary_crossentropy')"
   ]
  },
  {
   "cell_type": "code",
   "execution_count": 299,
   "metadata": {},
   "outputs": [
    {
     "name": "stdout",
     "output_type": "stream",
     "text": [
      "Train on 9765 samples, validate on 3256 samples\n",
      "Epoch 1/5\n",
      "9765/9765 [==============================] - 59s 6ms/step - loss: 0.6928 - val_loss: 0.6918\n",
      "Epoch 2/5\n",
      "9765/9765 [==============================] - 47s 5ms/step - loss: 0.6754 - val_loss: 0.6128\n",
      "Epoch 3/5\n",
      "9765/9765 [==============================] - 48s 5ms/step - loss: 0.3667 - val_loss: 0.1212\n",
      "Epoch 4/5\n",
      "9765/9765 [==============================] - 48s 5ms/step - loss: 0.0654 - val_loss: 0.0365\n",
      "Epoch 5/5\n",
      "9765/9765 [==============================] - 48s 5ms/step - loss: 0.0282 - val_loss: 0.0225\n"
     ]
    },
    {
     "data": {
      "text/plain": [
       "<keras.callbacks.History at 0x22b9de19f60>"
      ]
     },
     "execution_count": 299,
     "metadata": {},
     "output_type": "execute_result"
    }
   ],
   "source": [
    "autoencoder.fit(trainX, trainY,\n",
    "                epochs=5,\n",
    "                batch_size=256,\n",
    "                shuffle=True,\n",
    "                validation_data=(testX, testY))"
   ]
  },
  {
   "cell_type": "code",
   "execution_count": 301,
   "metadata": {},
   "outputs": [],
   "source": [
    "encoded_imgs = encoder.predict(testX)\n",
    "decoded_imgs = decoder.predict(encoded_imgs)"
   ]
  },
  {
   "cell_type": "code",
   "execution_count": 314,
   "metadata": {},
   "outputs": [],
   "source": [
    "orig = testY[0].reshape(1377, 59)"
   ]
  },
  {
   "cell_type": "code",
   "execution_count": 319,
   "metadata": {},
   "outputs": [],
   "source": [
    "y = np.rint(decoded_imgs[0])\n",
    "y = decoded_imgs[0]\n",
    "y = y.reshape(1377, 59)"
   ]
  },
  {
   "cell_type": "code",
   "execution_count": 320,
   "metadata": {},
   "outputs": [],
   "source": [
    "back_y = \"\".join([int_to_char[idx] for idx in np.argmax(y, axis=1)])\n",
    "back_orig = \"\".join([int_to_char[idx] for idx in np.argmax(orig, axis=1)])"
   ]
  },
  {
   "cell_type": "code",
   "execution_count": 321,
   "metadata": {},
   "outputs": [
    {
     "data": {
      "text/plain": [
       "('![CH::1][[::]][[[::]][[[:::]][[::]:[]][[]:::][[]::]]][]:::]][][[::]]][[::]]][[:::]]][[:]:EEEEEEEEEEEEEEEEEEEEEEEEEEEEEEEEEEEEEEEEEEEEEEEEEEEEEEEEEEEEEEEEEEEEEEEEEEEEEEEEEEEEEEEEEEEEEEEEEEEEEEEEEEEEEEEEEEEEEEEEEEEEEEEEEEEEEEEEEEEEEEEEEEEEEEEEEEEEEEEEEEEEEEEEEEEEEEEEEEEEEEEEEEEEEEEEEEEEEEEEEEEEEEEEEEEEEEEEEEEEEEEEEEEEEEEEEEEEEEEEEEEEEEEEEEEEEEEEEEEEEEEEEEEEEEEEEEEEEEEEEEEEEEEEEEEEEEEEEEEEEEEEEEEEEEEEEEEEEEEEEEEEEEEEEEEEEEEEEEEEEEEEEEEEEEEEEEEEEEEEEEEEEEEEEEEEEEEEEEEEEEEEEEEEEEEEEEEEEEEEEEEEEEEEEEEEEEEEEEEEEEEEEEEEEEEEEEEEEEEEEEEEEEEEEEEEEEEEEEEEEEEEEEEEEEEEEEEEEEEEEEEEEEEEEEEEEEEEEEEEEEEEEEEEEEEEEEEEEEEEEEEEEEEEEEEEEEEEEEEEEEEEEEEEEEEEEEEEEEEEEEEEEEEEEEEEEEEEEEEEEEEEEEEEEEEEEEEEEEEEEEEEEEEEEEEEEEEEEEEEEEEEEEEEEEEEEEEEEEEEEEEEEEEEEEEEEEEEEEEEEEEEEEEEEEEEEEEEEEEEEEEEEEEEEEEEEEEEEEEEEEEEEEEEEEEEEEEEEEEEEEEEEEEEEEEEEEEEEEEEEEEEEEEEEEEEEEEEEEEEEEEEEEEEEEEEEEEEEEEEEEEEEEEEEEEEEEEEEEEEEEEEEEEEEEEEEEEEEEEEEEEEEEEEEEEEEEEEEEEEEEEEEEEEEEEEEEEEEEEEEEEEEEEEEEEEEEEEEEEEEEEEEEEEEEEEEEEEEEEEEEEEEEEEEEEEEEEEEEEEEEEEEEEEEEEEEEEEEEEEEEEEEEEEEEEEEEEEEEEEEEEEEEEEEEEEEEEEEEEEEEEEEEEEEEEEEEEEEEEEEEEEEEEEEEEEEEEEEEEEEEEEEEEEEEEEEEEEEEEEEEEEEEEEEEEEEEEEEEEEEEEEEEEEEEEEEEEEEEEEEEEEEEEEEEEEEEEEEEEEEEEEEEEEEEEEEEEEEEEEEEEEEEEEEEEEEEEEEEEEEEEEEEEEEEEEEEEEEEEEEEEEEEEEEEEEEEEEEEEEEEEEEEEEEEEEEEEEEEEEEEEEEEEEEEEEEEEEEEEEEEEEEEEEEEEEEEEEEEEEEEEEEEEEEEEEEEEEEEEEEEEEEEEEEEEEEEEEEEEEEEEEEEEE',\n",
       " '![CH3:10][O:11][C:12](=[O:22])[C:13]1[CH:21]=[CH:20][C:18]([O:19][CH:2]([CH3:3])[CH2:4][CH2:5][CH2:6][CH:7]([CH3:9])[CH3:8])=[C:15]([O:16][CH3:17])[CH:14]=1EEEEEEEEEEEEEEEEEEEEEEEEEEEEEEEEEEEEEEEEEEEEEEEEEEEEEEEEEEEEEEEEEEEEEEEEEEEEEEEEEEEEEEEEEEEEEEEEEEEEEEEEEEEEEEEEEEEEEEEEEEEEEEEEEEEEEEEEEEEEEEEEEEEEEEEEEEEEEEEEEEEEEEEEEEEEEEEEEEEEEEEEEEEEEEEEEEEEEEEEEEEEEEEEEEEEEEEEEEEEEEEEEEEEEEEEEEEEEEEEEEEEEEEEEEEEEEEEEEEEEEEEEEEEEEEEEEEEEEEEEEEEEEEEEEEEEEEEEEEEEEEEEEEEEEEEEEEEEEEEEEEEEEEEEEEEEEEEEEEEEEEEEEEEEEEEEEEEEEEEEEEEEEEEEEEEEEEEEEEEEEEEEEEEEEEEEEEEEEEEEEEEEEEEEEEEEEEEEEEEEEEEEEEEEEEEEEEEEEEEEEEEEEEEEEEEEEEEEEEEEEEEEEEEEEEEEEEEEEEEEEEEEEEEEEEEEEEEEEEEEEEEEEEEEEEEEEEEEEEEEEEEEEEEEEEEEEEEEEEEEEEEEEEEEEEEEEEEEEEEEEEEEEEEEEEEEEEEEEEEEEEEEEEEEEEEEEEEEEEEEEEEEEEEEEEEEEEEEEEEEEEEEEEEEEEEEEEEEEEEEEEEEEEEEEEEEEEEEEEEEEEEEEEEEEEEEEEEEEEEEEEEEEEEEEEEEEEEEEEEEEEEEEEEEEEEEEEEEEEEEEEEEEEEEEEEEEEEEEEEEEEEEEEEEEEEEEEEEEEEEEEEEEEEEEEEEEEEEEEEEEEEEEEEEEEEEEEEEEEEEEEEEEEEEEEEEEEEEEEEEEEEEEEEEEEEEEEEEEEEEEEEEEEEEEEEEEEEEEEEEEEEEEEEEEEEEEEEEEEEEEEEEEEEEEEEEEEEEEEEEEEEEEEEEEEEEEEEEEEEEEEEEEEEEEEEEEEEEEEEEEEEEEEEEEEEEEEEEEEEEEEEEEEEEEEEEEEEEEEEEEEEEEEEEEEEEEEEEEEEEEEEEEEEEEEEEEEEEEEEEEEEEEEEEEEEEEEEEEEEEEEEEEEEEEEEEEEEEEEEEEEEEEEEEEEEEEEEEEEEEEEEEEEEEEEEEEEEEEEEEEEEEEEEEEEEEEEEEEEEEEEEEEEEEEEEEEEEEEEEEEEEEEEEEEEEEEEEEEEEEEEEEEEEEEEEEEEEEEEEEEEEEEEEEEEEEEEEEEEEEEEEEEEEEEEEEEEEEEEEE')"
      ]
     },
     "execution_count": 321,
     "metadata": {},
     "output_type": "execute_result"
    }
   ],
   "source": [
    "back_y, back_orig"
   ]
  },
  {
   "cell_type": "code",
   "execution_count": 323,
   "metadata": {},
   "outputs": [
    {
     "data": {
      "text/plain": [
       "'[CH3:1][C:2]1[N+:3]([O-])=[CH:4][C:5]2[C:10]([CH:11]=1)=[C:9]([N+:12]([O-:14])=[O:13])[CH:8]=[CH:7][CH:6]=2.P(Cl)(Cl)([Cl:18])=O'"
      ]
     },
     "execution_count": 323,
     "metadata": {},
     "output_type": "execute_result"
    }
   ],
   "source": [
    "reactions_all[0][7]"
   ]
  },
  {
   "cell_type": "code",
   "execution_count": 434,
   "metadata": {},
   "outputs": [
    {
     "name": "stdout",
     "output_type": "stream",
     "text": [
      "[CH3][C]1[N+]([O-])=[CH][C]2[C]([CH]=1)=[C]([N+]([O-])=[O])[CH]=[CH][CH]=2\n",
      "<rdkit.Chem.rdchem.Mol object at 0x0000022D3E7E54E0>\n"
     ]
    }
   ],
   "source": [
    "x = '[CH3:1][C:2]1[N+:3]([O-])=[CH:4][C:5]2[C:10]([CH:11]=1)=[C:9]([N+:12]([O-:14])=[O:13])[CH:8]=[CH:7][CH:6]=2'\n",
    "a = re.sub(':\\d+', '', x)\n",
    "\n",
    "print(a)\n",
    "m1 = AllChem.MolFromSmiles(a, sanitize=True)\n",
    "print(m1)"
   ]
  },
  {
   "cell_type": "code",
   "execution_count": 435,
   "metadata": {},
   "outputs": [
    {
     "data": {
      "text/plain": [
       "'Cc1cc2c([N+](=O)[O-])cccc2c[n+]1[O-]'"
      ]
     },
     "execution_count": 435,
     "metadata": {},
     "output_type": "execute_result"
    }
   ],
   "source": [
    "m2 = AllChem.MolFromSmiles('[C][C]1[N+]([O-])=[CH][C]2[C]([CH]=1)=[C]([N+]([O-])=[O])[CH]=[CH][CH]=2')\n",
    "test = AllChem.MolToSmiles(m1)\n",
    "m3 = AllChem.MolFromSmiles(test)\n",
    "test"
   ]
  },
  {
   "cell_type": "code",
   "execution_count": 436,
   "metadata": {},
   "outputs": [
    {
     "data": {
      "image/png": "[encoded data removed]",
      "text/plain": [
       "<PIL.Image.Image image mode=RGBA size=300x300 at 0x22CA9F53A58>"
      ]
     },
     "execution_count": 436,
     "metadata": {},
     "output_type": "execute_result"
    }
   ],
   "source": [
    "Draw.MolToImage(m3)"
   ]
  },
  {
   "cell_type": "code",
   "execution_count": 384,
   "metadata": {},
   "outputs": [
    {
     "data": {
      "image/png": "[encoded data removed]",
      "text/plain": [
       "<PIL.Image.Image image mode=RGBA size=300x300 at 0x22BB5CFF780>"
      ]
     },
     "execution_count": 384,
     "metadata": {},
     "output_type": "execute_result"
    }
   ],
   "source": [
    "Draw.MolToImage(m2)"
   ]
  },
  {
   "cell_type": "code",
   "execution_count": 388,
   "metadata": {},
   "outputs": [
    {
     "data": {
      "image/png": "[encoded data removed]",
      "text/plain": [
       "<PIL.Image.Image image mode=RGBA size=300x300 at 0x22CA8317828>"
      ]
     },
     "execution_count": 388,
     "metadata": {},
     "output_type": "execute_result"
    }
   ],
   "source": [
    "Draw.MolToImage(m3)"
   ]
  },
  {
   "cell_type": "code",
   "execution_count": 417,
   "metadata": {},
   "outputs": [
    {
     "name": "stdout",
     "output_type": "stream",
     "text": [
      "zpracovano:  0\n",
      "zpracovano:  1\n",
      "zpracovano:  2\n",
      "zpracovano:  3\n",
      "zpracovano:  4\n",
      "[]\n",
      "[]\n",
      "[]\n",
      "[]\n",
      "[]\n",
      "[]\n"
     ]
    }
   ],
   "source": [
    "\n",
    "        \n",
    "        \n",
    "\n",
    "        "
   ]
  },
  {
   "cell_type": "code",
   "execution_count": 419,
   "metadata": {},
   "outputs": [],
   "source": [
    "m = AllChem.MolFromSmiles('[CH3:1][c:2]1[n:3][c:4]([Cl:18])[c:5]2[cH:6][cH:7][cH:8][c:9]([N+:12](=[O:13])[O-:14])[c:10]2[cH:11]1')"
   ]
  },
  {
   "cell_type": "code",
   "execution_count": null,
   "metadata": {},
   "outputs": [],
   "source": []
  }
 ],
 "metadata": {
  "kernelspec": {
   "display_name": "Python 3",
   "language": "python",
   "name": "python3"
  },
  "language_info": {
   "codemirror_mode": {
    "name": "ipython",
    "version": 3
   },
   "file_extension": ".py",
   "mimetype": "text/x-python",
   "name": "python",
   "nbconvert_exporter": "python",
   "pygments_lexer": "ipython3",
   "version": "3.6.7"
  }
 },
 "nbformat": 4,
 "nbformat_minor": 4
}
