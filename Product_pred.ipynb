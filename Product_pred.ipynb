{
 "cells": [
  {
   "cell_type": "code",
   "execution_count": 1,
   "metadata": {},
   "outputs": [],
   "source": [
    "import csv\n",
    "import pandas as pd\n",
    "import sys\n",
    "#sys.path.append('./preprocess/')\n",
    "#import utils\n",
    "import re\n",
    "import numpy as np\n",
    "from rdkit import Chem\n",
    "from rdkit.Chem import Draw\n",
    "from rdkit.Chem import AllChem\n",
    "from rdkit.Chem import MolToSmiles\n",
    "from rdkit.Chem import MolFromSmiles\n",
    "from rdkit.Chem import rdChemReactions\n",
    "from features import atom_features, bond_features\n",
    "from rdkit.Chem.rdChemReactions import PreprocessReaction\n",
    "from rdkit.Chem.SaltRemover import SaltRemover"
   ]
  },
  {
   "cell_type": "code",
   "execution_count": 2,
   "metadata": {},
   "outputs": [
    {
     "data": {
      "text/html": [
       "<div>\n",
       "<style scoped>\n",
       "    .dataframe tbody tr th:only-of-type {\n",
       "        vertical-align: middle;\n",
       "    }\n",
       "\n",
       "    .dataframe tbody tr th {\n",
       "        vertical-align: top;\n",
       "    }\n",
       "\n",
       "    .dataframe thead th {\n",
       "        text-align: right;\n",
       "    }\n",
       "</style>\n",
       "<table border=\"1\" class=\"dataframe\">\n",
       "  <thead>\n",
       "    <tr style=\"text-align: right;\">\n",
       "      <th></th>\n",
       "      <th>ReactionSmiles</th>\n",
       "      <th>PatentNumber</th>\n",
       "      <th>ParagraphNum</th>\n",
       "      <th>Year</th>\n",
       "      <th>TextMinedYield</th>\n",
       "      <th>CalculatedYield</th>\n",
       "    </tr>\n",
       "  </thead>\n",
       "  <tbody>\n",
       "    <tr>\n",
       "      <td>0</td>\n",
       "      <td>[Br:1][CH2:2][CH2:3][OH:4].[CH2:5]([S:7](Cl)(=...</td>\n",
       "      <td>US03930836</td>\n",
       "      <td>NaN</td>\n",
       "      <td>1976</td>\n",
       "      <td>NaN</td>\n",
       "      <td>NaN</td>\n",
       "    </tr>\n",
       "    <tr>\n",
       "      <td>1</td>\n",
       "      <td>[Br:1][CH2:2][CH2:3][CH2:4][OH:5].[CH3:6][S:7]...</td>\n",
       "      <td>US03930836</td>\n",
       "      <td>NaN</td>\n",
       "      <td>1976</td>\n",
       "      <td>NaN</td>\n",
       "      <td>NaN</td>\n",
       "    </tr>\n",
       "    <tr>\n",
       "      <td>2</td>\n",
       "      <td>[CH2:1]([Cl:4])[CH2:2][OH:3].CCOCC.[CH2:10]([S...</td>\n",
       "      <td>US03930836</td>\n",
       "      <td>NaN</td>\n",
       "      <td>1976</td>\n",
       "      <td>NaN</td>\n",
       "      <td>NaN</td>\n",
       "    </tr>\n",
       "    <tr>\n",
       "      <td>3</td>\n",
       "      <td>[Br:1][CH2:2][CH2:3][OH:4].[CH2:5]([S:7](Cl)(=...</td>\n",
       "      <td>US03930839</td>\n",
       "      <td>NaN</td>\n",
       "      <td>1976</td>\n",
       "      <td>NaN</td>\n",
       "      <td>NaN</td>\n",
       "    </tr>\n",
       "    <tr>\n",
       "      <td>4</td>\n",
       "      <td>[Br:1][CH2:2][CH2:3][CH2:4][OH:5].[CH3:6][S:7]...</td>\n",
       "      <td>US03930839</td>\n",
       "      <td>NaN</td>\n",
       "      <td>1976</td>\n",
       "      <td>NaN</td>\n",
       "      <td>NaN</td>\n",
       "    </tr>\n",
       "    <tr>\n",
       "      <td>...</td>\n",
       "      <td>...</td>\n",
       "      <td>...</td>\n",
       "      <td>...</td>\n",
       "      <td>...</td>\n",
       "      <td>...</td>\n",
       "      <td>...</td>\n",
       "    </tr>\n",
       "    <tr>\n",
       "      <td>99995</td>\n",
       "      <td>[CH3:1][C:2]1[CH2:3][S:4][C@@H:5]2[CH:12]([NH:...</td>\n",
       "      <td>US04348264</td>\n",
       "      <td>NaN</td>\n",
       "      <td>1982</td>\n",
       "      <td>82%</td>\n",
       "      <td>81.6%</td>\n",
       "    </tr>\n",
       "    <tr>\n",
       "      <td>99996</td>\n",
       "      <td>[CH3:1][C:2]1[CH2:3][S:4][C@@H:5]2[CH:12]([NH:...</td>\n",
       "      <td>US04348264</td>\n",
       "      <td>NaN</td>\n",
       "      <td>1982</td>\n",
       "      <td>NaN</td>\n",
       "      <td>19.2%</td>\n",
       "    </tr>\n",
       "    <tr>\n",
       "      <td>99997</td>\n",
       "      <td>[CH3:1][C:2]1[CH2:21][S:20][C@@H:5]2[C@H:6]([N...</td>\n",
       "      <td>US04348264</td>\n",
       "      <td>NaN</td>\n",
       "      <td>1982</td>\n",
       "      <td>NaN</td>\n",
       "      <td>55.1%</td>\n",
       "    </tr>\n",
       "    <tr>\n",
       "      <td>99998</td>\n",
       "      <td>[CH3:1][C:2]1[CH2:3][S:4][C@@H:5]2[CH:12]([NH:...</td>\n",
       "      <td>US04348264</td>\n",
       "      <td>NaN</td>\n",
       "      <td>1982</td>\n",
       "      <td>84%</td>\n",
       "      <td>84.1%</td>\n",
       "    </tr>\n",
       "    <tr>\n",
       "      <td>99999</td>\n",
       "      <td>[CH3:1][C:2]1[CH2:11][S:10][C@@H:5]2[C@H:6]([N...</td>\n",
       "      <td>US04348264</td>\n",
       "      <td>NaN</td>\n",
       "      <td>1982</td>\n",
       "      <td>NaN</td>\n",
       "      <td>68849.8%</td>\n",
       "    </tr>\n",
       "  </tbody>\n",
       "</table>\n",
       "<p>100000 rows × 6 columns</p>\n",
       "</div>"
      ],
      "text/plain": [
       "                                          ReactionSmiles PatentNumber  \\\n",
       "0      [Br:1][CH2:2][CH2:3][OH:4].[CH2:5]([S:7](Cl)(=...   US03930836   \n",
       "1      [Br:1][CH2:2][CH2:3][CH2:4][OH:5].[CH3:6][S:7]...   US03930836   \n",
       "2      [CH2:1]([Cl:4])[CH2:2][OH:3].CCOCC.[CH2:10]([S...   US03930836   \n",
       "3      [Br:1][CH2:2][CH2:3][OH:4].[CH2:5]([S:7](Cl)(=...   US03930839   \n",
       "4      [Br:1][CH2:2][CH2:3][CH2:4][OH:5].[CH3:6][S:7]...   US03930839   \n",
       "...                                                  ...          ...   \n",
       "99995  [CH3:1][C:2]1[CH2:3][S:4][C@@H:5]2[CH:12]([NH:...   US04348264   \n",
       "99996  [CH3:1][C:2]1[CH2:3][S:4][C@@H:5]2[CH:12]([NH:...   US04348264   \n",
       "99997  [CH3:1][C:2]1[CH2:21][S:20][C@@H:5]2[C@H:6]([N...   US04348264   \n",
       "99998  [CH3:1][C:2]1[CH2:3][S:4][C@@H:5]2[CH:12]([NH:...   US04348264   \n",
       "99999  [CH3:1][C:2]1[CH2:11][S:10][C@@H:5]2[C@H:6]([N...   US04348264   \n",
       "\n",
       "       ParagraphNum  Year TextMinedYield CalculatedYield  \n",
       "0               NaN  1976            NaN             NaN  \n",
       "1               NaN  1976            NaN             NaN  \n",
       "2               NaN  1976            NaN             NaN  \n",
       "3               NaN  1976            NaN             NaN  \n",
       "4               NaN  1976            NaN             NaN  \n",
       "...             ...   ...            ...             ...  \n",
       "99995           NaN  1982            82%           81.6%  \n",
       "99996           NaN  1982            NaN           19.2%  \n",
       "99997           NaN  1982            NaN           55.1%  \n",
       "99998           NaN  1982            84%           84.1%  \n",
       "99999           NaN  1982            NaN        68849.8%  \n",
       "\n",
       "[100000 rows x 6 columns]"
      ]
     },
     "execution_count": 2,
     "metadata": {},
     "output_type": "execute_result"
    }
   ],
   "source": [
    "# from patents: https://figshare.com/articles/Chemical_reactions_from_US_patents_1976-Sep2016_/5104873\n",
    "data = pd.read_csv('./data/1976_Sep2016_USPTOgrants_smiles.csv', sep='\\t', nrows=100000)\n",
    "data"
   ]
  },
  {
   "cell_type": "code",
   "execution_count": 3,
   "metadata": {},
   "outputs": [],
   "source": [
    "m = AllChem.MolFromSmiles('[Cl](F)(=[O])(=[O])=[O]',  sanitize=True)\n"
   ]
  },
  {
   "cell_type": "code",
   "execution_count": 4,
   "metadata": {},
   "outputs": [],
   "source": [
    "remover = SaltRemover(defnData=\"[Cl,Br,Na]\")"
   ]
  },
  {
   "cell_type": "code",
   "execution_count": 5,
   "metadata": {},
   "outputs": [
    {
     "name": "stdout",
     "output_type": "stream",
     "text": [
      "zpracovano:  0\n",
      "zpracovano:  10000\n",
      "zpracovano:  20000\n",
      "zpracovano:  30000\n",
      "zpracovano:  40000\n",
      "zpracovano:  50000\n",
      "zpracovano:  60000\n",
      "zpracovano:  70000\n",
      "zpracovano:  80000\n",
      "zpracovano:  90000\n",
      "11\n",
      "14842\n"
     ]
    }
   ],
   "source": [
    "reactions = []\n",
    "products = []\n",
    "reactants = []\n",
    "prod = ''\n",
    "react = ''\n",
    "counter = 0\n",
    "counter2 = 0\n",
    "for i in range(len(data.ReactionSmiles)):\n",
    "    if i % 10000 == 0:\n",
    "        print('zpracovano: ', i)\n",
    "        \n",
    "    if '>>' in data.ReactionSmiles[i]:\n",
    "\n",
    "        line = re.sub(r'\\|.+\\|', '', data.ReactionSmiles[i])\n",
    "        line = re.sub(':\\d+', '', line)\n",
    "\n",
    "        a, b = (line.split('>>'))    \n",
    "        product = b.split('.')\n",
    "        reactant = a.split('.')\n",
    "        \n",
    "\n",
    "        if len(b) > 100:\n",
    "            counter2+=1\n",
    "            cont = False\n",
    "        elif len(a) > 100:\n",
    "            counter2+=1\n",
    "            cont = False\n",
    "            \n",
    "        else:\n",
    "            cont = True\n",
    "                \n",
    "        if cont:\n",
    "\n",
    "            try:\n",
    "                for r in reactant:\n",
    "                    # removal of ions\n",
    "                    if len(r) > 5:\n",
    "                        m = AllChem.MolFromSmiles(r, sanitize=True)\n",
    "                        react += (AllChem.MolToSmiles(m)+'*')\n",
    "              \n",
    "                for p in product:\n",
    "                    # removal of ions\n",
    "                    if len(p) > 5:\n",
    "                        m = AllChem.MolFromSmiles(p, sanitize=True)\n",
    "                        prod += (AllChem.MolToSmiles(m)+'*')\n",
    "                    \n",
    "                    \n",
    "                reactants.append(react)\n",
    "                react = ''\n",
    "\n",
    "                products.append(prod)\n",
    "                prod = ''\n",
    "\n",
    "            except:\n",
    "                counter+=1\n",
    "            \n",
    "print(counter)\n",
    "print(counter2)"
   ]
  },
  {
   "cell_type": "code",
   "execution_count": 6,
   "metadata": {},
   "outputs": [
    {
     "data": {
      "text/plain": [
       "(10353, 10353)"
      ]
     },
     "execution_count": 6,
     "metadata": {},
     "output_type": "execute_result"
    }
   ],
   "source": [
    "len(reactants), len(products)"
   ]
  },
  {
   "cell_type": "code",
   "execution_count": 7,
   "metadata": {},
   "outputs": [
    {
     "data": {
      "text/plain": [
       "('Cc1cc2c([N+](=O)[O-])cccc2c(Cl)n1*',\n",
       " 'Cc1cc2c([N+](=O)[O-])cccc2c[n+]1[O-]*O=P(Cl)(Cl)Cl*')"
      ]
     },
     "execution_count": 7,
     "metadata": {},
     "output_type": "execute_result"
    }
   ],
   "source": [
    "products[0], reactants[0]"
   ]
  },
  {
   "cell_type": "code",
   "execution_count": 8,
   "metadata": {},
   "outputs": [],
   "source": [
    "# save as smiles\n",
    "with open('./data/smiles_reaction.txt', 'w',  newline='') as fin:\n",
    "    writer = csv.writer(fin, delimiter='\\t')\n",
    "    for i, item in enumerate(reactants):\n",
    "        writer.writerow([item, products[i]])"
   ]
  },
  {
   "cell_type": "code",
   "execution_count": 9,
   "metadata": {},
   "outputs": [],
   "source": [
    "# converting molecules to pictures"
   ]
  },
  {
   "cell_type": "code",
   "execution_count": 10,
   "metadata": {},
   "outputs": [
    {
     "name": "stdout",
     "output_type": "stream",
     "text": [
      "{')', 'b', 'A', 'n', 'e', '#', 'W', 'S', 'I', '2', 'g', 'U', 'F', '=', 'C', 'o', '3', '[', '1', '5', 'r', 'N', 'B', 'H', 'c', 't', '(', '-', '+', 'O', '\\\\', '/', '*', 'M', 'Z', 'T', 'L', '4', 'P', ']', 'E', 'a', 'i', 'l', 'u', '@', 's', '!', '6'}\n",
      "49 123\n"
     ]
    }
   ],
   "source": [
    "charset = set(\"\".join(list(reactants))+\"!E\")\n",
    "char_to_int = dict((c,i) for i,c in enumerate(charset))\n",
    "int_to_char = dict((i,c) for i,c in enumerate(charset))\n",
    "embed = max([len(react) for react in reactants]) + 5\n",
    "print(str(charset))\n",
    "print(len(charset), embed)"
   ]
  },
  {
   "cell_type": "code",
   "execution_count": 11,
   "metadata": {},
   "outputs": [],
   "source": [
    "def vectorize(smiles):\n",
    "        one_hot =  np.zeros((smiles.shape[0], embed , len(charset)),dtype=np.int8)\n",
    "        for i,smile in enumerate(smiles):\n",
    "            #encode the startchar\n",
    "            one_hot[i,0,char_to_int[\"!\"]] = 1\n",
    "            #encode the rest of the chars\n",
    "            for j,c in enumerate(smile):\n",
    "                #if j > 50:\n",
    "                #    print(smile)\n",
    "                one_hot[i,j+1,char_to_int[c]] = 1\n",
    "            #Encode endchar\n",
    "            one_hot[i,len(smile)+1:,char_to_int[\"E\"]] = 1\n",
    "        #Return two, one for input and the other for output\n",
    "        return one_hot[:,0:-1,:], one_hot[:,1:,:]"
   ]
  },
  {
   "cell_type": "code",
   "execution_count": 12,
   "metadata": {},
   "outputs": [],
   "source": [
    "reactants_mat = vectorize(np.array(reactants))  \n",
    "products_mat = vectorize(np.array(products))"
   ]
  },
  {
   "cell_type": "code",
   "execution_count": 13,
   "metadata": {},
   "outputs": [
    {
     "data": {
      "text/plain": [
       "<matplotlib.image.AxesImage at 0x21b67851400>"
      ]
     },
     "execution_count": 13,
     "metadata": {},
     "output_type": "execute_result"
    },
    {
     "data": {
      "image/png": "[encoded data removed]",
      "text/plain": [
       "<Figure size 717.061x288 with 1 Axes>"
      ]
     },
     "metadata": {
      "needs_background": "light"
     },
     "output_type": "display_data"
    }
   ],
   "source": [
    "from matplotlib import pyplot as plt\n",
    "%matplotlib inline\n",
    "plt.matshow(reactants_mat[0][0].T)"
   ]
  },
  {
   "cell_type": "code",
   "execution_count": 14,
   "metadata": {},
   "outputs": [
    {
     "name": "stdout",
     "output_type": "stream",
     "text": [
      "(10353, 5978)\n"
     ]
    }
   ],
   "source": [
    "reactants_vec = reactants_mat[0].reshape((len(reactants_mat[0]), np.prod(reactants_mat[0].shape[1:])))\n",
    "products_vec = products_mat[0].reshape((len(products_mat[0]), np.prod(products_mat[0].shape[1:])))\n",
    "print(reactants_vec.shape)"
   ]
  },
  {
   "cell_type": "code",
   "execution_count": 15,
   "metadata": {},
   "outputs": [
    {
     "data": {
      "text/plain": [
       "((10353, 122, 49), (10353, 122, 49))"
      ]
     },
     "execution_count": 15,
     "metadata": {},
     "output_type": "execute_result"
    }
   ],
   "source": [
    "reactants_mat[0].shape, products_mat[0].shape"
   ]
  },
  {
   "cell_type": "code",
   "execution_count": 16,
   "metadata": {},
   "outputs": [],
   "source": [
    "# NETWORK"
   ]
  },
  {
   "cell_type": "code",
   "execution_count": 17,
   "metadata": {},
   "outputs": [
    {
     "name": "stderr",
     "output_type": "stream",
     "text": [
      "Using TensorFlow backend.\n"
     ]
    }
   ],
   "source": [
    "# packages\n",
    "import matplotlib\n",
    "matplotlib.use(\"Agg\")\n",
    "from numpy import array\n",
    "from numpy import argmax\n",
    "from sklearn.preprocessing import LabelEncoder\n",
    "from sklearn.preprocessing import OneHotEncoder\n",
    "from sklearn.preprocessing import LabelBinarizer\n",
    "from sklearn.model_selection import train_test_split\n",
    "from sklearn.metrics import classification_report\n",
    "from keras.models import Sequential\n",
    "from keras.layers.core import Dense\n",
    "from keras.optimizers import SGD\n",
    "#from imutils import paths\n",
    "import matplotlib.pyplot as plt\n",
    "import numpy as np\n",
    "import argparse\n",
    "import random\n",
    "import pickle\n",
    "#import cv2\n",
    "import os"
   ]
  },
  {
   "cell_type": "code",
   "execution_count": 18,
   "metadata": {},
   "outputs": [],
   "source": [
    "(trainX, testX, trainY, testY) = train_test_split(reactants_vec, products_vec, test_size=0.25, random_state=42)\n",
    "trainX = np.array(trainX)\n",
    "testX = np.array(testX)\n",
    "trainY = np.array(trainY)\n",
    "testY = np.array(testY)"
   ]
  },
  {
   "cell_type": "code",
   "execution_count": 19,
   "metadata": {},
   "outputs": [
    {
     "data": {
      "text/plain": [
       "5978"
      ]
     },
     "execution_count": 19,
     "metadata": {},
     "output_type": "execute_result"
    }
   ],
   "source": [
    "testX[0].shape[0]"
   ]
  },
  {
   "cell_type": "code",
   "execution_count": 20,
   "metadata": {},
   "outputs": [
    {
     "name": "stdout",
     "output_type": "stream",
     "text": [
      "WARNING:tensorflow:From C:\\Users\\kamcl\\Miniconda3\\envs\\reaction_ml\\lib\\site-packages\\keras\\backend\\tensorflow_backend.py:74: The name tf.get_default_graph is deprecated. Please use tf.compat.v1.get_default_graph instead.\n",
      "\n",
      "WARNING:tensorflow:From C:\\Users\\kamcl\\Miniconda3\\envs\\reaction_ml\\lib\\site-packages\\keras\\backend\\tensorflow_backend.py:517: The name tf.placeholder is deprecated. Please use tf.compat.v1.placeholder instead.\n",
      "\n",
      "WARNING:tensorflow:From C:\\Users\\kamcl\\Miniconda3\\envs\\reaction_ml\\lib\\site-packages\\keras\\backend\\tensorflow_backend.py:4138: The name tf.random_uniform is deprecated. Please use tf.random.uniform instead.\n",
      "\n"
     ]
    }
   ],
   "source": [
    "from keras.layers import Input, Dense\n",
    "from keras.models import Model\n",
    "\n",
    "# the size of  encoded representations\n",
    "encoding_dim = int(testX[0].shape[0]/5) #  compression of factor 5\n",
    "input_dim = int(testX[0].shape[0])\n",
    "\n",
    "\n",
    "# this is our input placeholder\n",
    "input_img = Input(shape=(input_dim,))\n",
    "# \"encoded\" is the encoded representation of the input\n",
    "encoded = Dense(encoding_dim, activation='relu')(input_img)\n",
    "# \"decoded\" is the lossy reconstruction of the input\n",
    "decoded = Dense(input_dim, activation='sigmoid')(encoded)\n",
    "\n",
    "# this model maps an input to its reconstruction\n",
    "autoencoder = Model(input_img, decoded)"
   ]
  },
  {
   "cell_type": "code",
   "execution_count": 21,
   "metadata": {},
   "outputs": [],
   "source": [
    "# this model maps an input to its encoded representation\n",
    "encoder = Model(input_img, encoded)"
   ]
  },
  {
   "cell_type": "code",
   "execution_count": 22,
   "metadata": {},
   "outputs": [],
   "source": [
    "encoded_input = Input(shape=(encoding_dim,))\n",
    "# retrieve the last layer of the autoencoder model\n",
    "decoder_layer = autoencoder.layers[-1]\n",
    "# create the decoder model\n",
    "decoder = Model(encoded_input, decoder_layer(encoded_input))"
   ]
  },
  {
   "cell_type": "code",
   "execution_count": 24,
   "metadata": {},
   "outputs": [
    {
     "name": "stdout",
     "output_type": "stream",
     "text": [
      "WARNING:tensorflow:From C:\\Users\\kamcl\\Miniconda3\\envs\\reaction_ml\\lib\\site-packages\\keras\\optimizers.py:790: The name tf.train.Optimizer is deprecated. Please use tf.compat.v1.train.Optimizer instead.\n",
      "\n",
      "WARNING:tensorflow:From C:\\Users\\kamcl\\Miniconda3\\envs\\reaction_ml\\lib\\site-packages\\keras\\backend\\tensorflow_backend.py:3376: The name tf.log is deprecated. Please use tf.math.log instead.\n",
      "\n",
      "WARNING:tensorflow:From C:\\Users\\kamcl\\Miniconda3\\envs\\reaction_ml\\lib\\site-packages\\tensorflow\\python\\ops\\nn_impl.py:180: add_dispatch_support.<locals>.wrapper (from tensorflow.python.ops.array_ops) is deprecated and will be removed in a future version.\n",
      "Instructions for updating:\n",
      "Use tf.where in 2.0, which has the same broadcast rule as np.where\n"
     ]
    }
   ],
   "source": [
    "autoencoder.compile(optimizer='adadelta', loss='binary_crossentropy')"
   ]
  },
  {
   "cell_type": "code",
   "execution_count": 25,
   "metadata": {},
   "outputs": [
    {
     "name": "stdout",
     "output_type": "stream",
     "text": [
      "WARNING:tensorflow:From C:\\Users\\kamcl\\Miniconda3\\envs\\reaction_ml\\lib\\site-packages\\keras\\backend\\tensorflow_backend.py:986: The name tf.assign_add is deprecated. Please use tf.compat.v1.assign_add instead.\n",
      "\n",
      "Train on 7764 samples, validate on 2589 samples\n",
      "Epoch 1/20\n",
      "7764/7764 [==============================] - 12s 2ms/step - loss: 0.6615 - val_loss: 0.5762\n",
      "Epoch 2/20\n",
      "7764/7764 [==============================] - 11s 1ms/step - loss: 0.3635 - val_loss: 0.1507\n",
      "Epoch 3/20\n",
      "7764/7764 [==============================] - 12s 1ms/step - loss: 0.0895 - val_loss: 0.0534\n",
      "Epoch 4/20\n",
      "7764/7764 [==============================] - 11s 1ms/step - loss: 0.0431 - val_loss: 0.0350\n",
      "Epoch 5/20\n",
      "7764/7764 [==============================] - 11s 1ms/step - loss: 0.0316 - val_loss: 0.0284\n",
      "Epoch 6/20\n",
      "7764/7764 [==============================] - 11s 1ms/step - loss: 0.0268 - val_loss: 0.0252\n",
      "Epoch 7/20\n",
      "7764/7764 [==============================] - 12s 2ms/step - loss: 0.0244 - val_loss: 0.0234\n",
      "Epoch 8/20\n",
      "7764/7764 [==============================] - 12s 1ms/step - loss: 0.0228 - val_loss: 0.0222\n",
      "Epoch 9/20\n",
      "7764/7764 [==============================] - 11s 1ms/step - loss: 0.0218 - val_loss: 0.0214\n",
      "Epoch 10/20\n",
      "7764/7764 [==============================] - 12s 2ms/step - loss: 0.0211 - val_loss: 0.0208\n",
      "Epoch 11/20\n",
      "7764/7764 [==============================] - 11s 1ms/step - loss: 0.0206 - val_loss: 0.0203\n",
      "Epoch 12/20\n",
      "7764/7764 [==============================] - 11s 1ms/step - loss: 0.0202 - val_loss: 0.0200\n",
      "Epoch 13/20\n",
      "7764/7764 [==============================] - 12s 2ms/step - loss: 0.0199 - val_loss: 0.0197\n",
      "Epoch 14/20\n",
      "7764/7764 [==============================] - 12s 2ms/step - loss: 0.0196 - val_loss: 0.0195\n",
      "Epoch 15/20\n",
      "7764/7764 [==============================] - 12s 2ms/step - loss: 0.0194 - val_loss: 0.0193\n",
      "Epoch 16/20\n",
      "7764/7764 [==============================] - 13s 2ms/step - loss: 0.0193 - val_loss: 0.0191\n",
      "Epoch 17/20\n",
      "7764/7764 [==============================] - 12s 2ms/step - loss: 0.0191 - val_loss: 0.0190\n",
      "Epoch 18/20\n",
      "7764/7764 [==============================] - 11s 1ms/step - loss: 0.0190 - val_loss: 0.0189\n",
      "Epoch 19/20\n",
      "7764/7764 [==============================] - 11s 1ms/step - loss: 0.0189 - val_loss: 0.0188\n",
      "Epoch 20/20\n",
      "7764/7764 [==============================] - 11s 1ms/step - loss: 0.0188 - val_loss: 0.0187\n"
     ]
    },
    {
     "data": {
      "text/plain": [
       "<keras.callbacks.History at 0x21b04c52828>"
      ]
     },
     "execution_count": 25,
     "metadata": {},
     "output_type": "execute_result"
    }
   ],
   "source": [
    "autoencoder.fit(trainX, trainY,\n",
    "                epochs=20,\n",
    "                batch_size=256,\n",
    "                shuffle=True,\n",
    "                validation_data=(testX, testY))"
   ]
  },
  {
   "cell_type": "code",
   "execution_count": 26,
   "metadata": {},
   "outputs": [],
   "source": [
    "encoded_imgs = encoder.predict(trainX)\n",
    "decoded_imgs = decoder.predict(encoded_imgs)"
   ]
  },
  {
   "cell_type": "code",
   "execution_count": 27,
   "metadata": {},
   "outputs": [
    {
     "data": {
      "text/plain": [
       "((7764, 1195), (7764, 5978))"
      ]
     },
     "execution_count": 27,
     "metadata": {},
     "output_type": "execute_result"
    }
   ],
   "source": [
    "encoded_imgs.shape, decoded_imgs.shape"
   ]
  },
  {
   "cell_type": "code",
   "execution_count": 43,
   "metadata": {},
   "outputs": [],
   "source": [
    "index = 1"
   ]
  },
  {
   "cell_type": "code",
   "execution_count": 44,
   "metadata": {},
   "outputs": [
    {
     "name": "stdout",
     "output_type": "stream",
     "text": [
      "[0.00104669 0.00115448 0.0011436  ... 0.00099131 0.00119534 0.00107843]\n"
     ]
    }
   ],
   "source": [
    "orig = testY[index].reshape(122, 49)\n",
    "#y = np.rint(decoded_imgs[index])\n",
    "y = decoded_imgs[index]\n",
    "print(y)\n",
    "y = y.reshape(122, 49)"
   ]
  },
  {
   "cell_type": "code",
   "execution_count": 45,
   "metadata": {},
   "outputs": [],
   "source": [
    "back_y = \"\".join([int_to_char[idx] for idx in np.argmax(y, axis=1)])\n",
    "back_orig = \"\".join([int_to_char[idx] for idx in np.argmax(orig, axis=1)])"
   ]
  },
  {
   "cell_type": "code",
   "execution_count": 46,
   "metadata": {},
   "outputs": [
    {
     "data": {
      "text/plain": [
       "('!CCCCCcCCCccCcccccccEEEEEEEEEEEEEEEEEEEEEEEEEEEEEEEEEEEEEEEEEEEEEEEEEEEEEEEEEEEEEEEEEEEEEEEEEEEEEEEEEEEEEEEEEEEEEEEEEEEEEE',\n",
       " '!O=C(O)CSSc1ccc([N+](=O)[O-])cc1C(Cl)(Cl)Cl*EEEEEEEEEEEEEEEEEEEEEEEEEEEEEEEEEEEEEEEEEEEEEEEEEEEEEEEEEEEEEEEEEEEEEEEEEEEEEE')"
      ]
     },
     "execution_count": 46,
     "metadata": {},
     "output_type": "execute_result"
    }
   ],
   "source": [
    "back_y, back_orig"
   ]
  },
  {
   "cell_type": "code",
   "execution_count": 47,
   "metadata": {},
   "outputs": [
    {
     "data": {
      "text/plain": [
       "array([1.0466874e-03, 1.1544824e-03, 1.1436045e-03, 1.0838807e-03,\n",
       "       1.0433495e-03, 1.1506081e-03, 1.0864437e-03, 1.0245144e-03,\n",
       "       1.1188984e-03, 9.1770291e-04, 9.7304583e-04, 1.1188686e-03,\n",
       "       1.0603666e-03, 1.0266006e-03, 1.0350347e-03, 1.1544228e-03,\n",
       "       1.1497438e-03, 1.1318624e-03, 1.1562109e-03, 9.2723966e-04,\n",
       "       1.0903776e-03, 8.4847212e-04, 1.1177659e-03, 1.0230243e-03,\n",
       "       1.0372996e-03, 1.1352897e-03, 1.1260211e-03, 1.0074377e-03,\n",
       "       9.3400478e-04, 1.0270774e-03, 1.1471808e-03, 1.0041296e-03,\n",
       "       1.1295974e-03, 9.8440051e-04, 1.1720061e-03, 1.2400746e-03,\n",
       "       1.1460781e-03, 1.0722876e-03, 1.0526478e-03, 1.1911988e-03,\n",
       "       1.1049509e-03, 7.8067183e-04, 1.1450052e-03, 1.0838509e-03,\n",
       "       1.0108650e-03, 1.0353625e-03, 1.2192428e-03, 9.9881023e-01,\n",
       "       1.1834502e-03], dtype=float32)"
      ]
     },
     "execution_count": 47,
     "metadata": {},
     "output_type": "execute_result"
    }
   ],
   "source": [
    "y[0]"
   ]
  },
  {
   "cell_type": "code",
   "execution_count": 48,
   "metadata": {},
   "outputs": [
    {
     "data": {
      "text/plain": [
       "47"
      ]
     },
     "execution_count": 48,
     "metadata": {},
     "output_type": "execute_result"
    }
   ],
   "source": [
    "np.argmax(y[0])"
   ]
  },
  {
   "cell_type": "code",
   "execution_count": 49,
   "metadata": {},
   "outputs": [],
   "source": [
    "b = np.argmax(y, axis=1)"
   ]
  },
  {
   "cell_type": "code",
   "execution_count": 50,
   "metadata": {},
   "outputs": [
    {
     "data": {
      "text/plain": [
       "array([47, 14, 14, 14, 14, 14, 24, 14, 14, 14, 24, 24, 14, 24, 24, 24, 24,\n",
       "       24, 24, 24, 40, 40, 40, 40, 40, 40, 40, 40, 40, 40, 40, 40, 40, 40,\n",
       "       40, 40, 40, 40, 40, 40, 40, 40, 40, 40, 40, 40, 40, 40, 40, 40, 40,\n",
       "       40, 40, 40, 40, 40, 40, 40, 40, 40, 40, 40, 40, 40, 40, 40, 40, 40,\n",
       "       40, 40, 40, 40, 40, 40, 40, 40, 40, 40, 40, 40, 40, 40, 40, 40, 40,\n",
       "       40, 40, 40, 40, 40, 40, 40, 40, 40, 40, 40, 40, 40, 40, 40, 40, 40,\n",
       "       40, 40, 40, 40, 40, 40, 40, 40, 40, 40, 40, 40, 40, 40, 40, 40, 40,\n",
       "       40, 40, 40], dtype=int64)"
      ]
     },
     "execution_count": 50,
     "metadata": {},
     "output_type": "execute_result"
    }
   ],
   "source": [
    "b"
   ]
  },
  {
   "cell_type": "code",
   "execution_count": 60,
   "metadata": {},
   "outputs": [
    {
     "data": {
      "text/plain": [
       "(10353, 122, 49)"
      ]
     },
     "execution_count": 60,
     "metadata": {},
     "output_type": "execute_result"
    }
   ],
   "source": [
    "np.array(reactants_mat)[0].shape"
   ]
  },
  {
   "cell_type": "code",
   "execution_count": 61,
   "metadata": {},
   "outputs": [],
   "source": [
    "(trainX, testX, trainY, testY) = train_test_split(np.array(reactants_mat)[0], np.array(products_mat)[0], test_size=0.25, random_state=42)\n"
   ]
  },
  {
   "cell_type": "code",
   "execution_count": 62,
   "metadata": {},
   "outputs": [],
   "source": [
    "#Import Keras objects\n",
    "from keras.models import Model\n",
    "from keras.layers import Input\n",
    "from keras.layers import LSTM\n",
    "from keras.layers import Dense\n",
    "from keras.layers import Concatenate\n",
    "from keras import regularizers\n",
    "input_shape = trainX.shape[1:]\n",
    "output_dim = trainY.shape[-1]\n",
    "latent_dim = 64\n",
    "lstm_dim = 64"
   ]
  },
  {
   "cell_type": "code",
   "execution_count": 63,
   "metadata": {},
   "outputs": [
    {
     "data": {
      "text/plain": [
       "((122, 49), 49, (7764, 122, 49))"
      ]
     },
     "execution_count": 63,
     "metadata": {},
     "output_type": "execute_result"
    }
   ],
   "source": [
    "input_shape, output_dim , trainX.shape"
   ]
  },
  {
   "cell_type": "code",
   "execution_count": 64,
   "metadata": {},
   "outputs": [
    {
     "data": {
      "text/plain": [
       "<tf.Tensor 'input_7:0' shape=(?, 122, 49) dtype=float32>"
      ]
     },
     "execution_count": 64,
     "metadata": {},
     "output_type": "execute_result"
    }
   ],
   "source": [
    "unroll = False\n",
    "encoder_inputs = Input(shape=input_shape)\n",
    "encoder_inputs"
   ]
  },
  {
   "cell_type": "code",
   "execution_count": 65,
   "metadata": {},
   "outputs": [],
   "source": [
    "encoder = LSTM(lstm_dim, return_state=True,\n",
    "                unroll=unroll)\n",
    "encoder_outputs, state_h, state_c = encoder(encoder_inputs)\n",
    "states = Concatenate(axis=-1)([state_h, state_c])\n",
    "neck = Dense(latent_dim, activation=\"relu\")\n",
    "neck_outputs = neck(states)"
   ]
  },
  {
   "cell_type": "code",
   "execution_count": 66,
   "metadata": {},
   "outputs": [
    {
     "name": "stdout",
     "output_type": "stream",
     "text": [
      "__________________________________________________________________________________________________\n",
      "Layer (type)                    Output Shape         Param #     Connected to                     \n",
      "==================================================================================================\n",
      "input_7 (InputLayer)            (None, 122, 49)      0                                            \n",
      "__________________________________________________________________________________________________\n",
      "lstm_6 (LSTM)                   [(None, 64), (None,  29184       input_7[0][0]                    \n",
      "__________________________________________________________________________________________________\n",
      "concatenate_4 (Concatenate)     (None, 128)          0           lstm_6[0][1]                     \n",
      "                                                                 lstm_6[0][2]                     \n",
      "__________________________________________________________________________________________________\n",
      "dense_12 (Dense)                (None, 64)           8256        concatenate_4[0][0]              \n",
      "__________________________________________________________________________________________________\n",
      "input_8 (InputLayer)            (None, 122, 49)      0                                            \n",
      "__________________________________________________________________________________________________\n",
      "dense_13 (Dense)                (None, 64)           4160        dense_12[0][0]                   \n",
      "__________________________________________________________________________________________________\n",
      "dense_14 (Dense)                (None, 64)           4160        dense_12[0][0]                   \n",
      "__________________________________________________________________________________________________\n",
      "lstm_7 (LSTM)                   (None, 122, 64)      29184       input_8[0][0]                    \n",
      "                                                                 dense_13[0][0]                   \n",
      "                                                                 dense_14[0][0]                   \n",
      "__________________________________________________________________________________________________\n",
      "dense_15 (Dense)                (None, 122, 49)      3185        lstm_7[0][0]                     \n",
      "==================================================================================================\n",
      "Total params: 78,129\n",
      "Trainable params: 78,129\n",
      "Non-trainable params: 0\n",
      "__________________________________________________________________________________________________\n",
      "None\n"
     ]
    }
   ],
   "source": [
    "decode_h = Dense(lstm_dim, activation=\"relu\")\n",
    "decode_c = Dense(lstm_dim, activation=\"relu\")\n",
    "state_h_decoded =  decode_h(neck_outputs)\n",
    "state_c_decoded =  decode_c(neck_outputs)\n",
    "encoder_states = [state_h_decoded, state_c_decoded]\n",
    "decoder_inputs = Input(shape=input_shape)\n",
    "decoder_lstm = LSTM(lstm_dim,\n",
    "                    return_sequences=True,\n",
    "                    unroll=unroll\n",
    "                   )\n",
    "decoder_outputs = decoder_lstm(decoder_inputs, initial_state=encoder_states)\n",
    "decoder_dense = Dense(output_dim, activation='softmax')\n",
    "decoder_outputs = decoder_dense(decoder_outputs)\n",
    "# Define the model, that inputs the training vector for two places, and predicts one character ahead of the input\n",
    "model = Model([encoder_inputs, decoder_inputs], decoder_outputs)\n",
    "print(model.summary())"
   ]
  },
  {
   "cell_type": "code",
   "execution_count": 67,
   "metadata": {},
   "outputs": [
    {
     "name": "stderr",
     "output_type": "stream",
     "text": [
      "C:\\Users\\kamcl\\Miniconda3\\envs\\reaction_ml\\lib\\site-packages\\keras\\callbacks.py:1065: UserWarning: `epsilon` argument is deprecated and will be removed, use `min_delta` instead.\n",
      "  warnings.warn('`epsilon` argument is deprecated and '\n"
     ]
    }
   ],
   "source": [
    "from keras.callbacks import History, ReduceLROnPlateau\n",
    "h = History()\n",
    "rlr = ReduceLROnPlateau(monitor='val_loss', factor=0.5,patience=10, min_lr=0.000001, verbose=1, epsilon=1e-5)"
   ]
  },
  {
   "cell_type": "code",
   "execution_count": 68,
   "metadata": {},
   "outputs": [
    {
     "name": "stdout",
     "output_type": "stream",
     "text": [
      "Train on 7764 samples, validate on 2589 samples\n",
      "Epoch 1/60\n",
      "7764/7764 [==============================] - 13s 2ms/step - loss: 1.3212 - val_loss: 0.6715\n",
      "Epoch 2/60\n",
      "7764/7764 [==============================] - 11s 1ms/step - loss: 0.6436 - val_loss: 0.6243\n",
      "Epoch 3/60\n",
      "7764/7764 [==============================] - 14s 2ms/step - loss: 0.6154 - val_loss: 0.6069\n",
      "Epoch 4/60\n",
      "7764/7764 [==============================] - 10s 1ms/step - loss: 0.6030 - val_loss: 0.5958\n",
      "Epoch 5/60\n",
      "7764/7764 [==============================] - 12s 2ms/step - loss: 0.6747 - val_loss: 0.6162\n",
      "Epoch 6/60\n",
      "7764/7764 [==============================] - 10s 1ms/step - loss: 0.5988 - val_loss: 0.5843\n",
      "Epoch 7/60\n",
      "7764/7764 [==============================] - 12s 2ms/step - loss: 0.5797 - val_loss: 0.5721\n",
      "Epoch 8/60\n",
      "7764/7764 [==============================] - 10s 1ms/step - loss: 0.5712 - val_loss: 0.5653\n",
      "Epoch 9/60\n",
      "7764/7764 [==============================] - 9s 1ms/step - loss: 0.5630 - val_loss: 0.5638\n",
      "Epoch 10/60\n",
      "7764/7764 [==============================] - 9s 1ms/step - loss: 0.5584 - val_loss: 0.5557\n",
      "Epoch 11/60\n",
      "7764/7764 [==============================] - 10s 1ms/step - loss: 0.5553 - val_loss: 0.5603\n",
      "Epoch 12/60\n",
      "7764/7764 [==============================] - 11s 1ms/step - loss: 0.5498 - val_loss: 0.5471\n",
      "Epoch 13/60\n",
      "7764/7764 [==============================] - 11s 1ms/step - loss: 0.5452 - val_loss: 0.5446\n",
      "Epoch 14/60\n",
      "7764/7764 [==============================] - 12s 2ms/step - loss: 0.5431 - val_loss: 0.5405\n",
      "Epoch 15/60\n",
      "7764/7764 [==============================] - 12s 2ms/step - loss: 0.5384 - val_loss: 0.5383\n",
      "Epoch 16/60\n",
      "7764/7764 [==============================] - 13s 2ms/step - loss: 0.5351 - val_loss: 0.5341\n",
      "Epoch 17/60\n",
      "7764/7764 [==============================] - 12s 2ms/step - loss: 0.5319 - val_loss: 0.5329\n",
      "Epoch 18/60\n",
      "7764/7764 [==============================] - 10s 1ms/step - loss: 0.5296 - val_loss: 0.5302\n",
      "Epoch 19/60\n",
      "7764/7764 [==============================] - 9s 1ms/step - loss: 0.5274 - val_loss: 0.5291\n",
      "Epoch 20/60\n",
      "7764/7764 [==============================] - 9s 1ms/step - loss: 0.5277 - val_loss: 0.5262\n",
      "Epoch 21/60\n",
      "7764/7764 [==============================] - 9s 1ms/step - loss: 0.5254 - val_loss: 0.5250\n",
      "Epoch 22/60\n",
      "7764/7764 [==============================] - 9s 1ms/step - loss: 0.5233 - val_loss: 0.5247\n",
      "Epoch 23/60\n",
      "7764/7764 [==============================] - 9s 1ms/step - loss: 0.5209 - val_loss: 0.5217\n",
      "Epoch 24/60\n",
      "7764/7764 [==============================] - 9s 1ms/step - loss: 0.5197 - val_loss: 0.5221\n",
      "Epoch 25/60\n",
      "7764/7764 [==============================] - 9s 1ms/step - loss: 0.5189 - val_loss: 0.5187\n",
      "Epoch 26/60\n",
      "7764/7764 [==============================] - 9s 1ms/step - loss: 0.5164 - val_loss: 0.5180\n",
      "Epoch 27/60\n",
      "7764/7764 [==============================] - 9s 1ms/step - loss: 0.5168 - val_loss: 0.5275\n",
      "Epoch 28/60\n",
      "7764/7764 [==============================] - 9s 1ms/step - loss: 0.5162 - val_loss: 0.5199\n",
      "Epoch 29/60\n",
      "7764/7764 [==============================] - 9s 1ms/step - loss: 0.5138 - val_loss: 0.5147\n",
      "Epoch 30/60\n",
      "7764/7764 [==============================] - 10s 1ms/step - loss: 0.5112 - val_loss: 0.5149\n",
      "Epoch 31/60\n",
      "7764/7764 [==============================] - 9s 1ms/step - loss: 0.5111 - val_loss: 0.5160\n",
      "Epoch 32/60\n",
      "7764/7764 [==============================] - 9s 1ms/step - loss: 0.5111 - val_loss: 0.5127\n",
      "Epoch 33/60\n",
      "7764/7764 [==============================] - 9s 1ms/step - loss: 0.5077 - val_loss: 0.5117\n",
      "Epoch 34/60\n",
      "7764/7764 [==============================] - 11s 1ms/step - loss: 0.5072 - val_loss: 0.5123\n",
      "Epoch 35/60\n",
      "7764/7764 [==============================] - 9s 1ms/step - loss: 0.5082 - val_loss: 0.5118\n",
      "Epoch 36/60\n",
      "7764/7764 [==============================] - 9s 1ms/step - loss: 0.5049 - val_loss: 0.5087\n",
      "Epoch 37/60\n",
      "7764/7764 [==============================] - 9s 1ms/step - loss: 0.5045 - val_loss: 0.5092\n",
      "Epoch 38/60\n",
      "7764/7764 [==============================] - 9s 1ms/step - loss: 0.5034 - val_loss: 0.5069\n",
      "Epoch 39/60\n",
      "7764/7764 [==============================] - 9s 1ms/step - loss: 0.5012 - val_loss: 0.5060\n",
      "Epoch 40/60\n",
      "7764/7764 [==============================] - 9s 1ms/step - loss: 0.5002 - val_loss: 0.5061\n",
      "Epoch 41/60\n",
      "7764/7764 [==============================] - 10s 1ms/step - loss: 0.4998 - val_loss: 0.5061\n",
      "Epoch 42/60\n",
      "7764/7764 [==============================] - 10s 1ms/step - loss: 0.4988 - val_loss: 0.5094\n",
      "Epoch 43/60\n",
      "7764/7764 [==============================] - 10s 1ms/step - loss: 0.4996 - val_loss: 0.5043\n",
      "Epoch 44/60\n",
      "7764/7764 [==============================] - 10s 1ms/step - loss: 0.4971 - val_loss: 0.5030\n",
      "Epoch 45/60\n",
      "7764/7764 [==============================] - 10s 1ms/step - loss: 0.4959 - val_loss: 0.5023\n",
      "Epoch 46/60\n",
      "7764/7764 [==============================] - 10s 1ms/step - loss: 0.4950 - val_loss: 0.5011\n",
      "Epoch 47/60\n",
      "7764/7764 [==============================] - 10s 1ms/step - loss: 0.4967 - val_loss: 0.5079\n",
      "Epoch 48/60\n",
      "7764/7764 [==============================] - 10s 1ms/step - loss: 0.4953 - val_loss: 0.5012\n",
      "Epoch 49/60\n",
      "7764/7764 [==============================] - 10s 1ms/step - loss: 0.4934 - val_loss: 0.5006\n",
      "Epoch 50/60\n",
      "7764/7764 [==============================] - 10s 1ms/step - loss: 0.4934 - val_loss: 0.4997\n",
      "Epoch 51/60\n",
      "7764/7764 [==============================] - 10s 1ms/step - loss: 0.4920 - val_loss: 0.5033\n",
      "Epoch 52/60\n",
      "7764/7764 [==============================] - 10s 1ms/step - loss: 0.4917 - val_loss: 0.4989\n",
      "Epoch 53/60\n",
      "7764/7764 [==============================] - 10s 1ms/step - loss: 0.4898 - val_loss: 0.5031\n",
      "Epoch 54/60\n",
      "7764/7764 [==============================] - 10s 1ms/step - loss: 0.4894 - val_loss: 0.4981\n",
      "Epoch 55/60\n",
      "7764/7764 [==============================] - 10s 1ms/step - loss: 0.4878 - val_loss: 0.4978\n",
      "Epoch 56/60\n",
      "7764/7764 [==============================] - 10s 1ms/step - loss: 0.4866 - val_loss: 0.4967\n",
      "Epoch 57/60\n",
      "7764/7764 [==============================] - 10s 1ms/step - loss: 0.4864 - val_loss: 0.4990\n",
      "Epoch 58/60\n",
      "7764/7764 [==============================] - 10s 1ms/step - loss: 0.4863 - val_loss: 0.4950\n",
      "Epoch 59/60\n",
      "7764/7764 [==============================] - 10s 1ms/step - loss: 0.4850 - val_loss: 0.4959\n",
      "Epoch 60/60\n",
      "7764/7764 [==============================] - 10s 1ms/step - loss: 0.4841 - val_loss: 0.4951\n"
     ]
    },
    {
     "data": {
      "text/plain": [
       "<keras.callbacks.History at 0x21b0837ec50>"
      ]
     },
     "execution_count": 68,
     "metadata": {},
     "output_type": "execute_result"
    }
   ],
   "source": [
    "from keras.optimizers import RMSprop, Adam\n",
    "opt=Adam(lr=0.005) # 0.001\n",
    "model.compile(optimizer=opt, loss='categorical_crossentropy')\n",
    "\n",
    "model.fit([trainX,trainX],trainY,\n",
    "                    epochs=60,\n",
    "                    batch_size=256,\n",
    "                    shuffle=True,\n",
    "                    callbacks=[h, rlr],\n",
    "                    validation_data=[[testX,testX],testY])"
   ]
  },
  {
   "cell_type": "code",
   "execution_count": 70,
   "metadata": {},
   "outputs": [],
   "source": [
    "import pickle\n",
    "pickle.dump(h.history, open(\"loss_history.pickle\",\"wb\"))"
   ]
  },
  {
   "cell_type": "code",
   "execution_count": 71,
   "metadata": {},
   "outputs": [
    {
     "data": {
      "text/plain": [
       "<matplotlib.legend.Legend at 0x21b66a70c88>"
      ]
     },
     "execution_count": 71,
     "metadata": {},
     "output_type": "execute_result"
    },
    {
     "data": {
      "image/png": "[encoded data removed]",
      "text/plain": [
       "<Figure size 432x288 with 1 Axes>"
      ]
     },
     "metadata": {
      "needs_background": "light"
     },
     "output_type": "display_data"
    }
   ],
   "source": [
    "plt.plot(h.history[\"loss\"], label=\"Loss\")\n",
    "plt.plot(h.history[\"val_loss\"], label=\"Val_Loss\")\n",
    "plt.yscale(\"log\")\n",
    "plt.legend()"
   ]
  },
  {
   "cell_type": "code",
   "execution_count": 73,
   "metadata": {},
   "outputs": [
    {
     "name": "stdout",
     "output_type": "stream",
     "text": [
      "CCOC(=O)C(C)CCCCCC1=CCCC1=O*EEEEEEEEEEEEEEEEEEEEEE !CC(CCCCCCCCCCCCCCCCCCCCCEEEEEEEEEEEEEEEEEEEEEEEEE\n",
      "O=C(O)CSSc1ccc([N+](=O)[O-])cc1C(Cl)(Cl)Cl*EEEEEEE !O=[Nc]([O-])ccccccEEEEccc)CC)))l))E))EEEEEEEEEEEE\n",
      "CCOC(=O)/C=C\\C(=O)[O-]*[Na+]*EEEEEEEEEEEEEEEEEEEEE !O=C1C=CC(=O)CCCO=C(EEEEEEEEEEEEEEEEEEEEEEEEEEEEEE\n",
      "ClC(Cn1ccnc1)c1cccc2ccccc12*EEEEEEEEEEEEEEEEEEEEEE !OCCCn1ccncccccccccccccccc2cEEEEEEEEEEEEEEEEEEEEEE\n",
      "CC1=NCCn2cccc21*EEEEEEEEEEEEEEEEEEEEEEEEEEEEEEEEEE !CC(=O)NCCC1cccccEEEEEEEEEEEEEEEEEEEEEEEEEEEEEEEEE\n",
      "O=C(O)C#CC1CCCCC1Cl*EEEEEEEEEEEEEEEEEEEEEEEEEEEEEE !CCCC(=O)C(CCCC(CCCCECCEEEEEEEEEEEEEEEEEEEEEEEEEEE\n",
      "CCc1cc(CC)c2ccc(N)nc2n1*EEEEEEEEEEEEEEEEEEEEEEEEEE !O=P(O)(O)OONccccccccccc*EEEEEEEEEEEEEEEEEEEEEEEEE\n",
      "NC(=O)C1(N)CCCCC1*EEEEEEEEEEEEEEEEEEEEEEEEEEEEEEEE !O=C(=O)(O)OONN)CCCEEEEEEEEEEEEEEEEEEEEEEEEEEEEEEE\n",
      "O=S(=O)([O-])F*C[n+]1sc(Cl)c(C#N)c1Cl*EEEEEEEEEEEE !N#Cc1c(CC)ccccCCCCEEEEEEEEEEEEEEEEEEEEEEEEEEEEEEE\n",
      "C#CCn1c2ccccc2c2sccc(=O)c21*EEEEEEEEEEEEEEEEEEEEEE !O=c1cccccccccccccccccccccccccccEEEEEEEEEEEEEEEEEE\n"
     ]
    }
   ],
   "source": [
    "for i in range(10):\n",
    "    v = model.predict([testX[i:i+1], testX[i:i+1]])\n",
    "    idxs = np.argmax(v, axis=2)\n",
    "    pred=  \"\".join([int_to_char[h] for h in idxs[0]])[:-1]\n",
    "    idxs2 = np.argmax(testY[i:i+1], axis=2)\n",
    "    true =  \"\".join([int_to_char[k] for k in idxs2[0]])[1:]\n",
    "    if true != pred:\n",
    "        print(true[0:50], pred[0:50])"
   ]
  },
  {
   "cell_type": "code",
   "execution_count": 87,
   "metadata": {},
   "outputs": [
    {
     "data": {
      "image/png": "[encoded data removed]",
      "text/plain": [
       "<PIL.Image.Image image mode=RGBA size=400x200 at 0x21B037A10B8>"
      ]
     },
     "execution_count": 87,
     "metadata": {},
     "output_type": "execute_result"
    }
   ],
   "source": [
    "m_true = AllChem.MolFromSmiles('O=C(O)C#CC1CCCCC1Cl')\n",
    "m_pred = AllChem.MolFromSmiles('CCCC(=O)')\n",
    "Draw.MolsToImage([m_true, m_pred])"
   ]
  },
  {
   "cell_type": "code",
   "execution_count": 78,
   "metadata": {},
   "outputs": [],
   "source": [
    "smiles_to_latent_model = Model(encoder_inputs, neck_outputs)\n",
    "smiles_to_latent_model.save(\"Blog_simple_smi2lat.h5\")"
   ]
  },
  {
   "cell_type": "code",
   "execution_count": 79,
   "metadata": {},
   "outputs": [],
   "source": [
    "latent_input = Input(shape=(latent_dim,))\n",
    "#reuse_layers\n",
    "state_h_decoded_2 =  decode_h(latent_input)\n",
    "state_c_decoded_2 =  decode_c(latent_input)\n",
    "latent_to_states_model = Model(latent_input, [state_h_decoded_2, state_c_decoded_2])\n",
    "latent_to_states_model.save(\"lat2state.h5\")"
   ]
  },
  {
   "cell_type": "code",
   "execution_count": 80,
   "metadata": {},
   "outputs": [],
   "source": [
    "#Last one is special, we need to change it to stateful, and change the input shape\n",
    "inf_decoder_inputs = Input(batch_shape=(1, 1, input_shape[1]))\n",
    "inf_decoder_lstm = LSTM(lstm_dim,\n",
    "                    return_sequences=True,\n",
    "                    unroll=unroll,\n",
    "                    stateful=True\n",
    "                   )\n",
    "inf_decoder_outputs = inf_decoder_lstm(inf_decoder_inputs)\n",
    "inf_decoder_dense = Dense(output_dim, activation='softmax')\n",
    "inf_decoder_outputs = inf_decoder_dense(inf_decoder_outputs)\n",
    "sample_model = Model(inf_decoder_inputs, inf_decoder_outputs)"
   ]
  },
  {
   "cell_type": "code",
   "execution_count": 81,
   "metadata": {},
   "outputs": [
    {
     "name": "stdout",
     "output_type": "stream",
     "text": [
      "_________________________________________________________________\n",
      "Layer (type)                 Output Shape              Param #   \n",
      "=================================================================\n",
      "input_10 (InputLayer)        (1, 1, 49)                0         \n",
      "_________________________________________________________________\n",
      "lstm_8 (LSTM)                (1, 1, 64)                29184     \n",
      "_________________________________________________________________\n",
      "dense_16 (Dense)             (1, 1, 49)                3185      \n",
      "=================================================================\n",
      "Total params: 32,369\n",
      "Trainable params: 32,369\n",
      "Non-trainable params: 0\n",
      "_________________________________________________________________\n"
     ]
    }
   ],
   "source": [
    "#Transfer Weights\n",
    "for i in range(1,3):\n",
    "    sample_model.layers[i].set_weights(model.layers[i+6].get_weights())\n",
    "sample_model.save(\"samplemodel.h5\")\n",
    "1\n",
    "sample_model.summary()"
   ]
  },
  {
   "cell_type": "code",
   "execution_count": 82,
   "metadata": {},
   "outputs": [],
   "source": [
    "# similarity TODO"
   ]
  },
  {
   "cell_type": "code",
   "execution_count": 83,
   "metadata": {},
   "outputs": [],
   "source": [
    "x_latent = smiles_to_latent_model.predict(testX)"
   ]
  },
  {
   "cell_type": "code",
   "execution_count": 84,
   "metadata": {},
   "outputs": [
    {
     "name": "stdout",
     "output_type": "stream",
     "text": [
      "[<rdkit.Chem.rdchem.Mol object at 0x0000021B0852F7B0>, <rdkit.Chem.rdchem.Mol object at 0x0000021B0A61BAD0>]\n"
     ]
    },
    {
     "data": {
      "image/png": "[encoded data removed]",
      "text/plain": [
       "<PIL.Image.Image image mode=RGBA size=400x200 at 0x21B037A1940>"
      ]
     },
     "execution_count": 84,
     "metadata": {},
     "output_type": "execute_result"
    }
   ],
   "source": [
    "molno = 5\n",
    "latent_mol = smiles_to_latent_model.predict(testX[molno:molno+1])\n",
    "sorti = np.argsort(np.sum(np.abs(x_latent - latent_mol), axis=1))\n",
    "#print(sorti[0:10])\n",
    "#print(testY[sorti[0:2]])\n",
    "mols = []\n",
    "for i in range(2):\n",
    "    mols.append(Chem.MolFromSmiles(products[sorti[i]]))\n",
    "print(mols)\n",
    "Draw.MolsToImage(mols)"
   ]
  },
  {
   "cell_type": "code",
   "execution_count": null,
   "metadata": {},
   "outputs": [],
   "source": []
  }
 ],
 "metadata": {
  "kernelspec": {
   "display_name": "Python 3",
   "language": "python",
   "name": "python3"
  },
  "language_info": {
   "codemirror_mode": {
    "name": "ipython",
    "version": 3
   },
   "file_extension": ".py",
   "mimetype": "text/x-python",
   "name": "python",
   "nbconvert_exporter": "python",
   "pygments_lexer": "ipython3",
   "version": "3.6.7"
  }
 },
 "nbformat": 4,
 "nbformat_minor": 4
}
